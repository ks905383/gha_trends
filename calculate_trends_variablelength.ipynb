{
 "cells": [
  {
   "cell_type": "markdown",
   "id": "a09b2fed-92d0-494e-8ad4-f274f86dc549",
   "metadata": {},
   "source": [
    "# Calculate trends by start year, end year, season, etc.\n",
    "\n",
    "Calculates linear trends over regional averages of any rainfall files in the `dir_list['raw']` directory."
   ]
  },
  {
   "cell_type": "code",
   "execution_count": 1,
   "id": "6e821806-c7d1-43a6-889d-8df74fbf68f5",
   "metadata": {},
   "outputs": [],
   "source": [
    "import xarray as xr\n",
    "import numpy as np\n",
    "import pandas as pd\n",
    "import warnings\n",
    "import os\n",
    "import re\n",
    "import glob\n",
    "from tqdm.notebook import tqdm\n",
    "\n",
    "from funcs_support import get_params, get_filepaths, utility_print, area_mean, subset_to_srat\n",
    "from funcs_load import load_cam6,load_raws\n",
    "from funcs_support2 import seasmeans\n",
    "dir_list = get_params()"
   ]
  },
  {
   "cell_type": "code",
   "execution_count": 2,
   "id": "94b6e35a-a96b-47d8-a8db-6f7322bdd4a4",
   "metadata": {},
   "outputs": [],
   "source": [
    "# Reference model for regridding\n",
    "ref_mod = 'GPCP'\n",
    "# Filename suffix for loading / saving\n",
    "suffix = 'HoAfrica'\n",
    "# Future experiments to extend historic runs on\n",
    "future_exps = ['ssp245','ssp585'] #ssp585\n",
    "\n",
    "# Range over which to calculate standard deviation\n",
    "sd_range = slice(1981,2014)\n",
    "\n",
    "overwrite = False"
   ]
  },
  {
   "cell_type": "code",
   "execution_count": 3,
   "id": "626e5660-12bc-4b23-9489-619a85b3b3a5",
   "metadata": {},
   "outputs": [],
   "source": [
    "# The whole region\n",
    "subset_params_hoa = {'lon':slice(32,55),'lat':slice(-3,12.5),'time':slice('1958-01-01','2023-12-30')}\n",
    "#subset_params_hoa = {'lon':slice(32,55),'lat':slice(-3,12.5),'time':slice('1850-01-01','2023-12-30')}"
   ]
  },
  {
   "cell_type": "code",
   "execution_count": 4,
   "id": "398f6ca6-8871-43e6-8e2f-0daf850cb796",
   "metadata": {},
   "outputs": [],
   "source": [
    "dss = dict()"
   ]
  },
  {
   "cell_type": "markdown",
   "id": "8e48c55d-6438-4c19-b61b-afd47fc6d22a",
   "metadata": {},
   "source": [
    "## Calculating trends"
   ]
  },
  {
   "cell_type": "code",
   "execution_count": 5,
   "id": "65d22864-f896-4465-9d93-1807109b6375",
   "metadata": {
    "scrolled": true,
    "tags": []
   },
   "outputs": [],
   "source": [
    "def calc_trends(dss,\n",
    "                # Get seasonal means\n",
    "                seasons = {'MAM':[3,5],\n",
    "                           'AMJ':[4,6],\n",
    "                           'MJJ':[5,7],\n",
    "                           'SON':[9,11],\n",
    "                           'OND':[10,12]},\n",
    "                # Regional subsets \n",
    "                # (all will be pushed through `subset_to_srat()`) \n",
    "                # or None, for by-pixel (after regridding) processing\n",
    "                regs = {'HoA-bimod':{'lon':slice(32,55),\n",
    "                                     'lat':slice(-3,12.5)},\n",
    "                        'overlap':{'lon':slice(38.5,47.5),\n",
    "                                 'lat':slice(2,6.5)}},\n",
    "                # To regrid to \n",
    "                ref_mod = ref_mod,\n",
    "                # File suffixes for loading\n",
    "                suffix = suffix,\n",
    "                # Years over which to calculate variance for CV trends\n",
    "                sd_range = sd_range,\n",
    "                overwrite=False):\n",
    "\n",
    "    # Add filename modifier if processing by pixel \n",
    "    if regs is None:\n",
    "        suffix = suffix+'-bypixel'\n",
    "\n",
    "    # Add filename modifier if not regridding\n",
    "    if ref_mod is None:\n",
    "        suffix = suffix+'-oggrid'\n",
    "\n",
    "    for exp in tqdm([ex for ex in dss]):\n",
    "        for mod in tqdm(dss[exp]):\n",
    "            #----------- File Setup -----------\n",
    "            if not os.path.exists(dir_list['proc']+mod):\n",
    "                os.mkdir(dir_list['proc']+mod+'/')\n",
    "                print(dir_list['proc']+mod+'/ created!')\n",
    "    \n",
    "            # Get spanned timeframe for output filename\n",
    "            datestr = datestr = (re.sub(r'-','',str(dss[exp][mod].time[0].values)[0:7]+'01') + '-' +\n",
    "                                 re.sub(r'-','',str(dss[exp][mod].time[-1].values)[0:7]+str(dss[exp][mod].time[-1].dt.daysinmonth.values)))\n",
    "            # Get output filename\n",
    "            output_fn = dir_list['proc']+mod+'/prtrends_Amon_'+mod+'_'+exp+'_allruns_'+datestr+'_'+suffix+'.nc'\n",
    "    \n",
    "            #----------- Processing -----------\n",
    "            if (overwrite) or (not os.path.exists(output_fn)):\n",
    "                \n",
    "                #----- Load\n",
    "                ds_tmp = dss[exp][mod].load()\n",
    "                \n",
    "                # Fixes issue with unsorted time dimension\n",
    "                try: \n",
    "                    xr.testing.assert_allclose(ds_tmp.sortby('time').time,\n",
    "                               ds_tmp.time)\n",
    "                except:\n",
    "                    print('had to sort time dimension of model '+mod+', exp '+exp)\n",
    "                    ds_tmp = ds_tmp.sortby('time')\n",
    "                    \n",
    "                #----- Drop duplicate runs... \n",
    "                if 'run' in ds_tmp.sizes:\n",
    "                    ds_tmp = ds_tmp.drop_duplicates(dim='run')\n",
    "                \n",
    "                #----- Get seasonal subsets \n",
    "                with warnings.catch_warnings(): \n",
    "                    # Ignore FutureWarning on time.dt calls\n",
    "                    warnings.simplefilter(action='ignore', category=FutureWarning)\n",
    "                    \n",
    "                    ds_tmp = seasmeans(ds_tmp,seasons=seasons)\n",
    "                \n",
    "                #----- Regrid to reference\n",
    "                if ref_mod is not None:\n",
    "                    try:\n",
    "                        ds_ref.load()\n",
    "                    except: \n",
    "                        raise NameError('No `ds_ref` found; load the obs cell to get it as regridding target.')\n",
    "                \n",
    "                    try:\n",
    "                        rgrd = xe.Regridder(ds_tmp,ds_ref,'conservative',ignore_degenerate=True)\n",
    "                    except: \n",
    "                        print('regridding issue with exp '+exp+', model '+mod+' (possibly a non-rectangular grid?)')\n",
    "                        continue\n",
    "                    ds_tmp = rgrd(ds_tmp)\n",
    "                    # Turn pixels that are completely 0 from regridding into nans \n",
    "                    ds_tmp = ds_tmp.where(ds_tmp.mean('year')!=0)\n",
    "                \n",
    "                #----- Get regional subsets and area mean\n",
    "                if regs is not None:\n",
    "                    ds_tmp = xr.concat([area_mean(subset_to_srat(ds_tmp.sel(**sp)))\n",
    "                                        for reg,sp in regs.items()],\n",
    "                                       dim = pd.Index([reg for reg in regs],name='region'))\n",
    "                \n",
    "                # Make sure partial seasons are nan (resample(time='1Y').mean(skipna=False \n",
    "                # should be doing this, but it's not.)\n",
    "                for seas in seasons:\n",
    "                    if dss[exp][mod].time[-1].dt.month<seasons[seas][1]:\n",
    "                        ds_tmp['pr'].loc[{'season':seas,'year':ds_tmp.year.max()}] = np.nan\n",
    "                \n",
    "                #----- Calculate trends\n",
    "                #-- Calculate OLS trends\n",
    "                with warnings.catch_warnings(): \n",
    "                    # Ignore Rankwarning on polyfit calls\n",
    "                    warnings.simplefilter('ignore')\n",
    "                \n",
    "                    # Calculate linear fits across years, through every possible \n",
    "                    # length of trend for each start year\n",
    "                    fits = xr.concat([xr.concat([(ds_tmp.sel(year=slice(start_year,start_year+run_length)).\n",
    "                                                               polyfit(dim='year',deg=1,skipna=False).\n",
    "                                                               isel(degree=0,drop=True).\n",
    "                                                               rename({'pr_polyfit_coefficients':'prtrend'}))\n",
    "                                                           for run_length in np.arange(1,len(ds_tmp.year.sel(year=slice(start_year,None))))],\n",
    "                                                          dim=pd.Index(start_year + np.arange(1,len(ds_tmp.year.sel(year=slice(start_year,None)))),name='end_year'))\n",
    "                                                for start_year in ds_tmp.year[0:-1].values],\n",
    "                                               dim=pd.Index(ds_tmp.year[0:-1].values,name='start_year'))\n",
    "                \n",
    "                #-- Calculate Theil-Sen slope estimator\n",
    "                # Calculate slopes through each combination of two points\n",
    "                point_slopes = xr.concat([xr.concat([(ds_tmp.sel(year=end_year)-ds_tmp.sel(year=start_year))/(end_year - start_year)\n",
    "                                                      if end_year > start_year else ds_tmp.sel(year=end_year)*np.nan\n",
    "                                                     for start_year in ds_tmp.year[0:-1].values],\n",
    "                                                    dim=pd.Index(ds_tmp.year[0:-1].values,name='start_year')).drop_vars('year',errors='ignore')\n",
    "                                          for end_year in ds_tmp.year[1:None].values],\n",
    "                                         dim=pd.Index(ds_tmp.year[1:None].values,name='end_year'))\n",
    "                \n",
    "                # Get median across combinations of points to get Thiel-Sen\n",
    "                # Estimator\n",
    "                fits['pr_tsslope'] = xr.concat([xr.concat([(point_slopes.sel(start_year = slice(start_year,end_year-1),\n",
    "                                                                 end_year = slice(start_year+1,end_year)).\n",
    "                                                      median(('end_year','start_year')))\n",
    "                                                         for start_year in ds_tmp.year[0:-1].values],\n",
    "                                                        dim=pd.Index(ds_tmp.year[0:-1].values,name='start_year')).drop_vars('year',errors='ignore')\n",
    "                                         for end_year in ds_tmp.year[1:None].values],\n",
    "                                        dim=pd.Index(ds_tmp.year[1:None].values,name='end_year'))['pr']\n",
    "\n",
    "                # Make sure to mask out trends that should be nan because they\n",
    "                # have missing data (can't use skipna=False in the median above, since\n",
    "                # start_year>=end_year are nans)\n",
    "                fits['pr_tsslope'] = fits['pr_tsslope'].where(~np.isnan(point_slopes.pr))\n",
    "                                                      \n",
    "                # Add run length variable\n",
    "                trend_length = fits.end_year-fits.start_year\n",
    "                trend_length = trend_length.where(trend_length>0)\n",
    "                fits['trend_length'] = trend_length\n",
    "                \n",
    "                #----- Calculate IA SDs\n",
    "                fits['pr_std'] = ds_tmp['pr'].sel(year=sd_range).std(dim='year')\n",
    "                fits['pr_std'].attrs['Range'] = 'Calculated on '+str(sd_range.start)+'-'+str(sd_range.stop)\n",
    "                fits['pr_std'].attrs['long_name'] = r'$\\sigma{P}$ ('+ str(sd_range.start)+'-'+str(sd_range.stop)+')'\n",
    "                \n",
    "                #----- Calculate IA IQRs\n",
    "                fits['pr_iqr'] = (ds_tmp['pr'].sel(year=sd_range).quantile(0.75,dim='year') - \n",
    "                                  ds_tmp['pr'].sel(year=sd_range).quantile(0.25,dim='year'))\n",
    "                fits['pr_std'].attrs['Range'] = 'Calculated on '+str(sd_range.start)+'-'+str(sd_range.stop)\n",
    "                fits['pr_std'].attrs['long_name'] = r'0.75 - 0.25 IQR of $P$ ('+ str(sd_range.start)+'-'+str(sd_range.stop)+')'\n",
    "                \n",
    "                \n",
    "                #----- Annotate\n",
    "                fits['prtrend'].attrs['Units'] = 'mm/day/year'\n",
    "                fits['trend_length'].attrs['Units'] = 'years'\n",
    "                fits['prtrend'].attrs['long_name'] = r'$P$ trend'\n",
    "                \n",
    "                fits.attrs['SOURCE'] = 'calculate_trends_variablelength.ipynb'\n",
    "                if regs is None:\n",
    "                    fits.attrs['DESCRIPTION'] = 'linear trends (slope), calculated through every possible every start/end year combination'\n",
    "                else:\n",
    "                    fits.attrs['DESCRIPTION'] = 'linear trends (slope), calculated through every possible every start/end year combination'\n",
    "                if ref_mod is not None:\n",
    "                    fits.attrs['REGRIDDING'] = 'conservatively regridded to '+ref_mod+' before processing'\n",
    "    \n",
    "    \n",
    "                #----- Save\n",
    "                if os.path.exists(output_fn):\n",
    "                    os.remove(output_fn)\n",
    "                    print(output_fn+' removed to allow overwrite!')\n",
    "    \n",
    "                fits.to_netcdf(output_fn)\n",
    "                print(output_fn+' saved!')\n",
    "    \n",
    "            else:\n",
    "                print(output_fn+' already exists, skipped!')"
   ]
  },
  {
   "cell_type": "markdown",
   "id": "ca16d039-c2ef-4ee7-8ced-264dfae78674",
   "metadata": {},
   "source": [
    "## Gridded obs data"
   ]
  },
  {
   "cell_type": "code",
   "execution_count": 6,
   "id": "4a5863af-409b-4cf8-8c20-b26135f7a8f1",
   "metadata": {},
   "outputs": [],
   "source": [
    "# Directly load, since for some reason load_raws is being slow here \n",
    "dss['obs'] = dict()\n",
    "for row in get_filepaths().query('varname==\"pr\" and freq==\"Amon\" and exp==\"historical\" and run==\"obs\"').iterrows():\n",
    "    dss['obs'][row[1].model] = xr.open_dataset(row[1].path)\n",
    "    dss['obs'][row[1].model] = xa.fix_ds(dss['obs'][row[1].model]).sel(**subset_params_hoa)"
   ]
  },
  {
   "cell_type": "code",
   "execution_count": 7,
   "id": "451d84a0-fbd9-4814-9186-e439f4611526",
   "metadata": {},
   "outputs": [],
   "source": [
    "# Get reference model that others are regridded to\n",
    "ds_ref = dss['obs'][ref_mod]"
   ]
  },
  {
   "cell_type": "code",
   "execution_count": 8,
   "id": "ac565ccd-018b-46d3-b5f3-862f78f1bc26",
   "metadata": {},
   "outputs": [
    {
     "data": {
      "application/vnd.jupyter.widget-view+json": {
       "model_id": "ff6a9fc989cf489d97d881b6695b42eb",
       "version_major": 2,
       "version_minor": 0
      },
      "text/plain": [
       "  0%|          | 0/1 [00:00<?, ?it/s]"
      ]
     },
     "metadata": {},
     "output_type": "display_data"
    },
    {
     "data": {
      "application/vnd.jupyter.widget-view+json": {
       "model_id": "7101d8e2419a42bca3940b1196ca33a1",
       "version_major": 2,
       "version_minor": 0
      },
      "text/plain": [
       "  0%|          | 0/11 [00:00<?, ?it/s]"
      ]
     },
     "metadata": {},
     "output_type": "display_data"
    },
    {
     "name": "stdout",
     "output_type": "stream",
     "text": [
      "/dx02/kschwarz/climate_proc/UDel/prtrends_Amon_UDel_obs_allruns_19000101-20141231_HoAfrica.nc already exists, skipped!\n",
      "/dx02/kschwarz/climate_proc/CHIRPSv3/prtrends_Amon_CHIRPSv3_obs_allruns_19810101-20230630_HoAfrica.nc already exists, skipped!\n",
      "/dx02/kschwarz/climate_proc/CHIRPS/prtrends_Amon_CHIRPS_obs_allruns_19810101-20220930_HoAfrica.nc already exists, skipped!\n",
      "/dx02/kschwarz/climate_proc/GPCP/prtrends_Amon_GPCP_obs_allruns_19790101-20230430_HoAfrica.nc already exists, skipped!\n",
      "/dx02/kschwarz/climate_proc/GPCC-monitoring/prtrends_Amon_GPCC-monitoring_obs_allruns_19820101-20231031_HoAfrica.nc already exists, skipped!\n",
      "/dx02/kschwarz/climate_proc/GPCC-full/prtrends_Amon_GPCC-full_obs_allruns_18910101-20201231_HoAfrica.nc already exists, skipped!\n",
      "/dx02/kschwarz/climate_proc/CMORPH/prtrends_Amon_CMORPH_obs_allruns_19980101-20230430_HoAfrica.nc already exists, skipped!\n",
      "/dx02/kschwarz/climate_proc/CMAP/prtrends_Amon_CMAP_obs_allruns_19790101-20231231_HoAfrica.nc already exists, skipped!\n",
      "/dx02/kschwarz/climate_proc/TerraClimate/prtrends_Amon_TerraClimate_obs_allruns_19580101-20151231_HoAfrica.nc already exists, skipped!\n",
      "/dx02/kschwarz/climate_proc/CRU-TS/prtrends_Amon_CRU-TS_obs_allruns_19010101-20221231_HoAfrica.nc already exists, skipped!\n",
      "/dx02/kschwarz/climate_proc/CenTrends/prtrends_Amon_CenTrends_obs_allruns_19000101-20141231_HoAfrica.nc already exists, skipped!\n"
     ]
    }
   ],
   "source": [
    "# Calculate trends\n",
    "calc_trends(dss)"
   ]
  },
  {
   "cell_type": "code",
   "execution_count": null,
   "id": "d6e839fb-fe99-4ab6-bf4c-53cceb14914b",
   "metadata": {},
   "outputs": [
    {
     "data": {
      "application/vnd.jupyter.widget-view+json": {
       "model_id": "edca7f83d30f413a8e71423682999e57",
       "version_major": 2,
       "version_minor": 0
      },
      "text/plain": [
       "  0%|          | 0/1 [00:00<?, ?it/s]"
      ]
     },
     "metadata": {},
     "output_type": "display_data"
    },
    {
     "data": {
      "application/vnd.jupyter.widget-view+json": {
       "model_id": "013a06021d164269a8efce97300ca48b",
       "version_major": 2,
       "version_minor": 0
      },
      "text/plain": [
       "  0%|          | 0/11 [00:00<?, ?it/s]"
      ]
     },
     "metadata": {},
     "output_type": "display_data"
    },
    {
     "name": "stderr",
     "output_type": "stream",
     "text": [
      "/home/kschwarz/miniforge3/envs/climate/lib/python3.12/site-packages/numpy/lib/nanfunctions.py:1563: RuntimeWarning: All-NaN slice encountered\n",
      "  return function_base._ureduce(a,\n"
     ]
    },
    {
     "name": "stdout",
     "output_type": "stream",
     "text": [
      "/dx02/kschwarz/climate_proc/UDel/prtrends_Amon_UDel_obs_allruns_19580101-20141231_HoAfrica-bypixel-oggrid.nc saved!\n"
     ]
    }
   ],
   "source": [
    "# Calculate trends by pixel, original grids of each obs product \n",
    "calc_trends(dss,overwrite=False,ref_mod = None,regs = None)"
   ]
  },
  {
   "cell_type": "code",
   "execution_count": 9,
   "id": "30ce796a-8fe9-441b-a803-488488b92c4e",
   "metadata": {},
   "outputs": [],
   "source": [
    "del dss['obs']"
   ]
  },
  {
   "cell_type": "markdown",
   "id": "87241bbc-6b48-44ed-a61d-ca1649e31163",
   "metadata": {},
   "source": [
    "## Station obs data"
   ]
  },
  {
   "cell_type": "code",
   "execution_count": 11,
   "id": "ca565cf2-e2db-448c-9af4-c2c1b89e2568",
   "metadata": {},
   "outputs": [],
   "source": [
    "# Directly load, since for some reason load_raws is being slow here \n",
    "dss['stations'] = dict()\n",
    "for row in get_filepaths().query('varname==\"pr\" and freq==\"Amon\" and exp==\"historical\" and suffix == \"HoAfrica-stns\"').iterrows():\n",
    "    dss['stations'][row[1].model] = xr.open_dataset(row[1].path)"
   ]
  },
  {
   "cell_type": "code",
   "execution_count": null,
   "id": "530e1f2f-3ba2-4332-b3a7-3f2e97758eeb",
   "metadata": {},
   "outputs": [
    {
     "data": {
      "application/vnd.jupyter.widget-view+json": {
       "model_id": "6142646e75bc4b108bdfe9e38c12c93d",
       "version_major": 2,
       "version_minor": 0
      },
      "text/plain": [
       "  0%|          | 0/1 [00:00<?, ?it/s]"
      ]
     },
     "metadata": {},
     "output_type": "display_data"
    },
    {
     "data": {
      "application/vnd.jupyter.widget-view+json": {
       "model_id": "563400b861ee4eca9db47feb42f1759c",
       "version_major": 2,
       "version_minor": 0
      },
      "text/plain": [
       "  0%|          | 0/2 [00:00<?, ?it/s]"
      ]
     },
     "metadata": {},
     "output_type": "display_data"
    },
    {
     "name": "stderr",
     "output_type": "stream",
     "text": [
      "/home/kschwarz/miniforge3/envs/climate/lib/python3.12/site-packages/numpy/lib/nanfunctions.py:1563: RuntimeWarning: All-NaN slice encountered\n",
      "  return function_base._ureduce(a,\n"
     ]
    },
    {
     "name": "stdout",
     "output_type": "stream",
     "text": [
      "/dx02/kschwarz/climate_proc/GHCN/prtrends_Amon_GHCN_stations_allruns_18780401-20240531_HoAfrica-bypixel-oggrid.nc saved!\n"
     ]
    }
   ],
   "source": [
    "calc_trends(dss,regs=None,ref_mod = None)"
   ]
  },
  {
   "cell_type": "code",
   "execution_count": 18,
   "id": "0cd0f61a-2135-4c8d-997d-7b6bfb69191b",
   "metadata": {},
   "outputs": [],
   "source": [
    "del dss['stations']"
   ]
  },
  {
   "cell_type": "markdown",
   "id": "94748a6c-58d8-4633-bb70-d85d7ecd6b9c",
   "metadata": {},
   "source": [
    "## AMIP"
   ]
  },
  {
   "cell_type": "code",
   "execution_count": 30,
   "id": "17d40028-34cb-4b92-a94f-ae26ebc07f24",
   "metadata": {
    "scrolled": true,
    "tags": []
   },
   "outputs": [],
   "source": [
    "dss['amip'] = load_raws({'varname':'pr','freq':'Amon','suffix':suffix,'exp':'amip'},\n",
    "                        treat_multiple={'time':'earliest'},\n",
    "                        force_load = True)"
   ]
  },
  {
   "cell_type": "code",
   "execution_count": 31,
   "id": "b8444cb2-6c57-445d-b4c0-efcbfc83e7b9",
   "metadata": {},
   "outputs": [],
   "source": [
    "# Convert from kg/m^2s to mm/day\n",
    "dss['amip'] = {mod:ds*60*60*24 for mod,ds in dss['amip'].items()}"
   ]
  },
  {
   "cell_type": "code",
   "execution_count": 32,
   "id": "1193c408-ef07-48b1-9668-7d9bada0b050",
   "metadata": {},
   "outputs": [],
   "source": [
    "# CIESM is in m/s for some reason, so the above calc is off by 1000\n",
    "dss['amip']['CIESM']['pr'] = dss['amip']['CIESM']['pr']*1000"
   ]
  },
  {
   "cell_type": "code",
   "execution_count": 13,
   "id": "058571ad-ef3a-4d48-b7ee-536e7fb2f194",
   "metadata": {
    "scrolled": true
   },
   "outputs": [
    {
     "data": {
      "application/vnd.jupyter.widget-view+json": {
       "model_id": "53ba1145b054422ca56486c828d6122f",
       "version_major": 2,
       "version_minor": 0
      },
      "text/plain": [
       "  0%|          | 0/1 [00:00<?, ?it/s]"
      ]
     },
     "metadata": {},
     "output_type": "display_data"
    },
    {
     "data": {
      "application/vnd.jupyter.widget-view+json": {
       "model_id": "2223349104824f0f99863032761a1961",
       "version_major": 2,
       "version_minor": 0
      },
      "text/plain": [
       "  0%|          | 0/30 [00:00<?, ?it/s]"
      ]
     },
     "metadata": {},
     "output_type": "display_data"
    },
    {
     "name": "stdout",
     "output_type": "stream",
     "text": [
      "/dx02/kschwarz/climate_proc/ACCESS-ESM1-5/prtrends_Amon_ACCESS-ESM1-5_amip_allruns_19790101-20141231_HoAfrica.nc already exists, skipped!\n",
      "/dx02/kschwarz/climate_proc/BCC-CSM2-MR/prtrends_Amon_BCC-CSM2-MR_amip_allruns_19790101-20141231_HoAfrica.nc already exists, skipped!\n",
      "/dx02/kschwarz/climate_proc/BCC-ESM1/prtrends_Amon_BCC-ESM1_amip_allruns_19790101-20141231_HoAfrica.nc already exists, skipped!\n",
      "/dx02/kschwarz/climate_proc/CAMS-CSM1-0/prtrends_Amon_CAMS-CSM1-0_amip_allruns_19790101-20141231_HoAfrica.nc already exists, skipped!\n",
      "/dx02/kschwarz/climate_proc/CAS-ESM2-0/prtrends_Amon_CAS-ESM2-0_amip_allruns_19780101-20141231_HoAfrica.nc already exists, skipped!\n",
      "/dx02/kschwarz/climate_proc/CESM2/prtrends_Amon_CESM2_amip_allruns_19500101-20141231_HoAfrica.nc already exists, skipped!\n",
      "/dx02/kschwarz/climate_proc/CESM2-FV2/prtrends_Amon_CESM2-FV2_amip_allruns_19500101-20141231_HoAfrica.nc already exists, skipped!\n",
      "/dx02/kschwarz/climate_proc/CESM2-WACCM/prtrends_Amon_CESM2-WACCM_amip_allruns_19500101-20141231_HoAfrica.nc already exists, skipped!\n",
      "/dx02/kschwarz/climate_proc/CESM2-WACCM-FV2/prtrends_Amon_CESM2-WACCM-FV2_amip_allruns_19500101-20141231_HoAfrica.nc already exists, skipped!\n",
      "/dx02/kschwarz/climate_proc/CIESM/prtrends_Amon_CIESM_amip_allruns_19790101-20141231_HoAfrica.nc already exists, skipped!\n",
      "/dx02/kschwarz/climate_proc/CanESM5/prtrends_Amon_CanESM5_amip_allruns_19500101-20141231_HoAfrica.nc already exists, skipped!\n",
      "/dx02/kschwarz/climate_proc/E3SM-1-0/prtrends_Amon_E3SM-1-0_amip_allruns_18700101-20141231_HoAfrica.nc already exists, skipped!\n",
      "/dx02/kschwarz/climate_proc/EC-Earth3/prtrends_Amon_EC-Earth3_amip_allruns_19790101-20141231_HoAfrica.nc already exists, skipped!\n",
      "/dx02/kschwarz/climate_proc/EC-Earth3-Veg/prtrends_Amon_EC-Earth3-Veg_amip_allruns_19790101-20141231_HoAfrica.nc already exists, skipped!\n",
      "/dx02/kschwarz/climate_proc/FGOALS-f3-L/prtrends_Amon_FGOALS-f3-L_amip_allruns_19790101-20141231_HoAfrica.nc already exists, skipped!\n",
      "/dx02/kschwarz/climate_proc/FGOALS-g3/prtrends_Amon_FGOALS-g3_amip_allruns_19790101-20141231_HoAfrica.nc already exists, skipped!\n",
      "/dx02/kschwarz/climate_proc/FIO-ESM-2-0/prtrends_Amon_FIO-ESM-2-0_amip_allruns_19790101-20141231_HoAfrica.nc already exists, skipped!\n",
      "/dx02/kschwarz/climate_proc/GISS-E2-1-G/prtrends_Amon_GISS-E2-1-G_amip_allruns_18500101-20141231_HoAfrica.nc already exists, skipped!\n",
      "/dx02/kschwarz/climate_proc/GISS-E2-2-G/prtrends_Amon_GISS-E2-2-G_amip_allruns_19790101-20141231_HoAfrica.nc already exists, skipped!\n",
      "/dx02/kschwarz/climate_proc/HadGEM3-GC31-LL/prtrends_Amon_HadGEM3-GC31-LL_amip_allruns_19790101-20141230_HoAfrica.nc already exists, skipped!\n",
      "/dx02/kschwarz/climate_proc/HadGEM3-GC31-MM/prtrends_Amon_HadGEM3-GC31-MM_amip_allruns_19790101-20141230_HoAfrica.nc already exists, skipped!\n",
      "/dx02/kschwarz/climate_proc/IPSL-CM6A-LR/prtrends_Amon_IPSL-CM6A-LR_amip_allruns_19580101-20141231_HoAfrica.nc already exists, skipped!\n",
      "/dx02/kschwarz/climate_proc/MIROC-ES2L/prtrends_Amon_MIROC-ES2L_amip_allruns_19790101-20141231_HoAfrica.nc already exists, skipped!\n",
      "/dx02/kschwarz/climate_proc/MIROC6/prtrends_Amon_MIROC6_amip_allruns_19790101-20141231_HoAfrica.nc already exists, skipped!\n",
      "/dx02/kschwarz/climate_proc/MPI-ESM1-2-HR/prtrends_Amon_MPI-ESM1-2-HR_amip_allruns_19790101-20141231_HoAfrica.nc already exists, skipped!\n",
      "/dx02/kschwarz/climate_proc/MPI-ESM1-2-LR/prtrends_Amon_MPI-ESM1-2-LR_amip_allruns_19790101-20141231_HoAfrica.nc already exists, skipped!\n",
      "/dx02/kschwarz/climate_proc/MRI-ESM2-0/prtrends_Amon_MRI-ESM2-0_amip_allruns_19790101-20141231_HoAfrica.nc already exists, skipped!\n",
      "/dx02/kschwarz/climate_proc/NESM3/prtrends_Amon_NESM3_amip_allruns_19790101-20141231_HoAfrica.nc already exists, skipped!\n",
      "/dx02/kschwarz/climate_proc/NorCPM1/prtrends_Amon_NorCPM1_amip_allruns_19500101-20141231_HoAfrica.nc already exists, skipped!\n",
      "/dx02/kschwarz/climate_proc/UKESM1-0-LL/prtrends_Amon_UKESM1-0-LL_amip_allruns_19790101-20141230_HoAfrica.nc already exists, skipped!\n"
     ]
    }
   ],
   "source": [
    "# Calculate trends\n",
    "calc_trends({'amip':dss['amip']})"
   ]
  },
  {
   "cell_type": "code",
   "execution_count": null,
   "id": "0e5ed81c-8410-4936-b8a3-b0bf611cccf6",
   "metadata": {
    "scrolled": true
   },
   "outputs": [
    {
     "data": {
      "application/vnd.jupyter.widget-view+json": {
       "model_id": "23c055863a4d49f3be08cd8497f170e6",
       "version_major": 2,
       "version_minor": 0
      },
      "text/plain": [
       "  0%|          | 0/1 [00:00<?, ?it/s]"
      ]
     },
     "metadata": {},
     "output_type": "display_data"
    },
    {
     "data": {
      "application/vnd.jupyter.widget-view+json": {
       "model_id": "512b7d9460f04d98bfbe7a575f1939f1",
       "version_major": 2,
       "version_minor": 0
      },
      "text/plain": [
       "  0%|          | 0/30 [00:00<?, ?it/s]"
      ]
     },
     "metadata": {},
     "output_type": "display_data"
    },
    {
     "name": "stderr",
     "output_type": "stream",
     "text": [
      "/home/kschwarz/miniforge3/envs/climate/lib/python3.12/site-packages/numpy/lib/nanfunctions.py:1563: RuntimeWarning: All-NaN slice encountered\n",
      "  return function_base._ureduce(a,\n"
     ]
    },
    {
     "name": "stdout",
     "output_type": "stream",
     "text": [
      "/dx02/kschwarz/climate_proc/ACCESS-ESM1-5/prtrends_Amon_ACCESS-ESM1-5_amip_allruns_19790101-20141231_HoAfrica-bypixel.nc removed to allow overwrite!\n",
      "/dx02/kschwarz/climate_proc/ACCESS-ESM1-5/prtrends_Amon_ACCESS-ESM1-5_amip_allruns_19790101-20141231_HoAfrica-bypixel.nc saved!\n"
     ]
    },
    {
     "name": "stderr",
     "output_type": "stream",
     "text": [
      "/home/kschwarz/miniforge3/envs/climate/lib/python3.12/site-packages/numpy/lib/nanfunctions.py:1563: RuntimeWarning: All-NaN slice encountered\n",
      "  return function_base._ureduce(a,\n"
     ]
    },
    {
     "name": "stdout",
     "output_type": "stream",
     "text": [
      "/dx02/kschwarz/climate_proc/BCC-CSM2-MR/prtrends_Amon_BCC-CSM2-MR_amip_allruns_19790101-20141231_HoAfrica-bypixel.nc removed to allow overwrite!\n",
      "/dx02/kschwarz/climate_proc/BCC-CSM2-MR/prtrends_Amon_BCC-CSM2-MR_amip_allruns_19790101-20141231_HoAfrica-bypixel.nc saved!\n"
     ]
    },
    {
     "name": "stderr",
     "output_type": "stream",
     "text": [
      "/home/kschwarz/miniforge3/envs/climate/lib/python3.12/site-packages/numpy/lib/nanfunctions.py:1563: RuntimeWarning: All-NaN slice encountered\n",
      "  return function_base._ureduce(a,\n"
     ]
    },
    {
     "name": "stdout",
     "output_type": "stream",
     "text": [
      "/dx02/kschwarz/climate_proc/BCC-ESM1/prtrends_Amon_BCC-ESM1_amip_allruns_19790101-20141231_HoAfrica-bypixel.nc removed to allow overwrite!\n",
      "/dx02/kschwarz/climate_proc/BCC-ESM1/prtrends_Amon_BCC-ESM1_amip_allruns_19790101-20141231_HoAfrica-bypixel.nc saved!\n"
     ]
    },
    {
     "name": "stderr",
     "output_type": "stream",
     "text": [
      "/home/kschwarz/miniforge3/envs/climate/lib/python3.12/site-packages/numpy/lib/nanfunctions.py:1563: RuntimeWarning: All-NaN slice encountered\n",
      "  return function_base._ureduce(a,\n"
     ]
    },
    {
     "name": "stdout",
     "output_type": "stream",
     "text": [
      "/dx02/kschwarz/climate_proc/CAMS-CSM1-0/prtrends_Amon_CAMS-CSM1-0_amip_allruns_19790101-20141231_HoAfrica-bypixel.nc removed to allow overwrite!\n",
      "/dx02/kschwarz/climate_proc/CAMS-CSM1-0/prtrends_Amon_CAMS-CSM1-0_amip_allruns_19790101-20141231_HoAfrica-bypixel.nc saved!\n"
     ]
    },
    {
     "name": "stderr",
     "output_type": "stream",
     "text": [
      "/home/kschwarz/miniforge3/envs/climate/lib/python3.12/site-packages/numpy/lib/nanfunctions.py:1563: RuntimeWarning: All-NaN slice encountered\n",
      "  return function_base._ureduce(a,\n"
     ]
    },
    {
     "name": "stdout",
     "output_type": "stream",
     "text": [
      "/dx02/kschwarz/climate_proc/CAS-ESM2-0/prtrends_Amon_CAS-ESM2-0_amip_allruns_19780101-20141231_HoAfrica-bypixel.nc removed to allow overwrite!\n",
      "/dx02/kschwarz/climate_proc/CAS-ESM2-0/prtrends_Amon_CAS-ESM2-0_amip_allruns_19780101-20141231_HoAfrica-bypixel.nc saved!\n"
     ]
    },
    {
     "name": "stderr",
     "output_type": "stream",
     "text": [
      "/home/kschwarz/miniforge3/envs/climate/lib/python3.12/site-packages/numpy/lib/nanfunctions.py:1563: RuntimeWarning: All-NaN slice encountered\n",
      "  return function_base._ureduce(a,\n"
     ]
    },
    {
     "name": "stdout",
     "output_type": "stream",
     "text": [
      "/dx02/kschwarz/climate_proc/CESM2/prtrends_Amon_CESM2_amip_allruns_19500101-20141231_HoAfrica-bypixel.nc saved!\n"
     ]
    },
    {
     "name": "stderr",
     "output_type": "stream",
     "text": [
      "/home/kschwarz/miniforge3/envs/climate/lib/python3.12/site-packages/numpy/lib/nanfunctions.py:1563: RuntimeWarning: All-NaN slice encountered\n",
      "  return function_base._ureduce(a,\n"
     ]
    },
    {
     "name": "stdout",
     "output_type": "stream",
     "text": [
      "/dx02/kschwarz/climate_proc/CESM2-FV2/prtrends_Amon_CESM2-FV2_amip_allruns_19500101-20141231_HoAfrica-bypixel.nc saved!\n"
     ]
    },
    {
     "name": "stderr",
     "output_type": "stream",
     "text": [
      "/home/kschwarz/miniforge3/envs/climate/lib/python3.12/site-packages/numpy/lib/nanfunctions.py:1563: RuntimeWarning: All-NaN slice encountered\n",
      "  return function_base._ureduce(a,\n"
     ]
    },
    {
     "name": "stdout",
     "output_type": "stream",
     "text": [
      "/dx02/kschwarz/climate_proc/CESM2-WACCM/prtrends_Amon_CESM2-WACCM_amip_allruns_19500101-20141231_HoAfrica-bypixel.nc saved!\n"
     ]
    },
    {
     "name": "stderr",
     "output_type": "stream",
     "text": [
      "/home/kschwarz/miniforge3/envs/climate/lib/python3.12/site-packages/numpy/lib/nanfunctions.py:1563: RuntimeWarning: All-NaN slice encountered\n",
      "  return function_base._ureduce(a,\n"
     ]
    },
    {
     "name": "stdout",
     "output_type": "stream",
     "text": [
      "/dx02/kschwarz/climate_proc/CESM2-WACCM-FV2/prtrends_Amon_CESM2-WACCM-FV2_amip_allruns_19500101-20141231_HoAfrica-bypixel.nc saved!\n"
     ]
    },
    {
     "name": "stderr",
     "output_type": "stream",
     "text": [
      "/home/kschwarz/miniforge3/envs/climate/lib/python3.12/site-packages/numpy/lib/nanfunctions.py:1563: RuntimeWarning: All-NaN slice encountered\n",
      "  return function_base._ureduce(a,\n"
     ]
    },
    {
     "name": "stdout",
     "output_type": "stream",
     "text": [
      "/dx02/kschwarz/climate_proc/CIESM/prtrends_Amon_CIESM_amip_allruns_19790101-20141231_HoAfrica-bypixel.nc removed to allow overwrite!\n",
      "/dx02/kschwarz/climate_proc/CIESM/prtrends_Amon_CIESM_amip_allruns_19790101-20141231_HoAfrica-bypixel.nc saved!\n"
     ]
    },
    {
     "name": "stderr",
     "output_type": "stream",
     "text": [
      "/home/kschwarz/miniforge3/envs/climate/lib/python3.12/site-packages/numpy/lib/nanfunctions.py:1563: RuntimeWarning: All-NaN slice encountered\n",
      "  return function_base._ureduce(a,\n"
     ]
    },
    {
     "name": "stdout",
     "output_type": "stream",
     "text": [
      "/dx02/kschwarz/climate_proc/CanESM5/prtrends_Amon_CanESM5_amip_allruns_19500101-20141231_HoAfrica-bypixel.nc saved!\n"
     ]
    }
   ],
   "source": [
    "# Calculate trends by pixel\n",
    "calc_trends({'amip':dss['amip']},\n",
    "            regs = None,\n",
    "            overwrite=True)"
   ]
  },
  {
   "cell_type": "code",
   "execution_count": 36,
   "id": "ac1c2daa-dbe7-4768-b104-f750ddd57e64",
   "metadata": {},
   "outputs": [],
   "source": [
    "del dss['amip']"
   ]
  },
  {
   "cell_type": "markdown",
   "id": "d6b7cf7e-9337-44f6-a130-1437f15744d5",
   "metadata": {},
   "source": [
    "## CMIP6 / coupled data"
   ]
  },
  {
   "cell_type": "code",
   "execution_count": 77,
   "id": "05c5d166-0518-41aa-a85f-735a3046b044",
   "metadata": {
    "scrolled": true,
    "tags": []
   },
   "outputs": [
    {
     "name": "stderr",
     "output_type": "stream",
     "text": [
      "/home/kschwarz/miniforge3/envs/climate/lib/python3.12/site-packages/xarray/coding/times.py:995: SerializationWarning: Unable to decode time axis into full numpy.datetime64 objects, continuing using cftime.datetime objects instead, reason: dates out of range\n",
      "  dtype = _decode_cf_datetime_dtype(data, units, calendar, self.use_cftime)\n",
      "/home/kschwarz/miniforge3/envs/climate/lib/python3.12/site-packages/xarray/core/indexing.py:630: SerializationWarning: Unable to decode time axis into full numpy.datetime64 objects, continuing using cftime.datetime objects instead, reason: dates out of range\n",
      "  array = array.get_duck_array()\n",
      "/home/kschwarz/miniforge3/envs/climate/lib/python3.12/site-packages/xarray/core/indexing.py:500: SerializationWarning: Unable to decode time axis into full numpy.datetime64 objects, continuing using cftime.datetime objects instead, reason: dates out of range\n",
      "  return np.asarray(self.get_duck_array(), dtype=dtype)\n",
      "/home/kschwarz/miniforge3/envs/climate/lib/python3.12/site-packages/xarray/coding/times.py:995: SerializationWarning: Unable to decode time axis into full numpy.datetime64 objects, continuing using cftime.datetime objects instead, reason: dates out of range\n",
      "  dtype = _decode_cf_datetime_dtype(data, units, calendar, self.use_cftime)\n",
      "/home/kschwarz/miniforge3/envs/climate/lib/python3.12/site-packages/xarray/core/indexing.py:630: SerializationWarning: Unable to decode time axis into full numpy.datetime64 objects, continuing using cftime.datetime objects instead, reason: dates out of range\n",
      "  array = array.get_duck_array()\n",
      "/home/kschwarz/miniforge3/envs/climate/lib/python3.12/site-packages/xarray/core/indexing.py:500: SerializationWarning: Unable to decode time axis into full numpy.datetime64 objects, continuing using cftime.datetime objects instead, reason: dates out of range\n",
      "  return np.asarray(self.get_duck_array(), dtype=dtype)\n"
     ]
    }
   ],
   "source": [
    "# Load historical and future CMIP6 coupled data\n",
    "dss['coupled'] = {exp:load_raws({'varname':'pr','freq':'Amon','suffix':suffix,'exp':exp},\n",
    "                                treat_multiple={'time':'earliest'},\n",
    "                                subset_params = {'time':slice('1958-01-01','2100-12-30')},#{'time':slice('1850-01-01','2023-12-30')},\n",
    "                                force_load = True) #\n",
    "                  for exp in ['historical',*future_exps]}"
   ]
  },
  {
   "cell_type": "code",
   "execution_count": 78,
   "id": "fa1b93f2-8cd9-4e2a-8eb8-8389f2b8f650",
   "metadata": {},
   "outputs": [],
   "source": [
    "# Convert from kg/m^2s to mm/day\n",
    "dss['coupled'] = {exp:{mod:ds*60*60*24 for mod,ds in dss['coupled'][exp].items()}\n",
    "                  for exp in dss['coupled']}"
   ]
  },
  {
   "cell_type": "code",
   "execution_count": 79,
   "id": "01d46187-023c-4ffb-9d2b-9950cc071b74",
   "metadata": {},
   "outputs": [],
   "source": [
    "### Stitch together historical and future runs to run until 2023\n",
    "# Get which models' data can be extended from historical \n",
    "# to ssp245\n",
    "extend_mods = {future_exp:[mod for mod in dss['coupled']['historical']\n",
    "                               if mod in dss['coupled'][future_exp]]\n",
    "                               for future_exp in future_exps}\n",
    "\n",
    "# First, the historical and future need to be put onto the same calendar;\n",
    "# otherwise the julian / gregorian / noleap issue runs up\n",
    "# (this may cause slight issues with weigthing of months, but it should be\n",
    "# minor...)\n",
    "for exp in dss['coupled']:\n",
    "    for mod in dss['coupled'][exp]:\n",
    "        dss['coupled'][exp][mod]['time'] = pd.date_range(str(dss['coupled'][exp][mod].time.min().values)[0:7]+'-01',\n",
    "                                                         str(dss['coupled'][exp][mod].time.max().values)[0:7]+'-28',\n",
    "                                                          freq='1MS') + pd.Timedelta(days=15)\n",
    "\n",
    "# Now, stitch together historical and future runs where possible\n",
    "for future_exp in extend_mods:\n",
    "    dss['coupled']['hist-'+future_exp] = dict()\n",
    "\n",
    "    for mod in extend_mods[future_exp]:\n",
    "        dss['coupled']['hist-'+future_exp][mod] = xr.concat([dss['coupled']['historical'][mod],\n",
    "                                                        dss['coupled'][future_exp][mod].drop_duplicates('run')],\n",
    "                                                       dim='time').drop_duplicates('time')\n",
    "\n",
    "# Now have hist be just the ones left that aren't extended at all \n",
    "# (to not double-do it too much...)\n",
    "dss['coupled']['hist-none'] = {mod:ds for mod,ds in dss['coupled']['historical'].items()\n",
    "                          if mod not in np.unique(np.hstack([mods for exp,mods in extend_mods.items()]))}\n",
    "\n",
    "# Remove unnecessary copies\n",
    "for exp in [exp for exp in dss['coupled'] if re.search(r'hist-',exp)]:\n",
    "    dss[exp] = dss['coupled'][exp]\n",
    "del dss['coupled']"
   ]
  },
  {
   "cell_type": "code",
   "execution_count": 47,
   "id": "bbab6756-c072-489d-ba74-9125469add74",
   "metadata": {},
   "outputs": [],
   "source": [
    "seasons = {'MAM':[3,5],\n",
    "           'AMJ':[4,6],\n",
    "           'MJJ':[5,7],\n",
    "           'SON':[9,11],\n",
    "           'OND':[10,12]}\n",
    "# Regional subsets \n",
    "# (all will be pushed through `subset_to_srat()`) \n",
    "regs = {'HoA-bimod':{'lon':slice(32,55),\n",
    "                     'lat':slice(-3,12.5)},\n",
    "        'overlap':{'lon':slice(38.5,47.5),\n",
    "                 'lat':slice(2,6.5)}}"
   ]
  },
  {
   "cell_type": "code",
   "execution_count": 19,
   "id": "63597670-52cd-46c7-a08a-419db551c9f2",
   "metadata": {
    "scrolled": true
   },
   "outputs": [
    {
     "data": {
      "application/vnd.jupyter.widget-view+json": {
       "model_id": "2c3ad75137e4472fb2a83b7001271065",
       "version_major": 2,
       "version_minor": 0
      },
      "text/plain": [
       "  0%|          | 0/2 [00:00<?, ?it/s]"
      ]
     },
     "metadata": {},
     "output_type": "display_data"
    },
    {
     "data": {
      "application/vnd.jupyter.widget-view+json": {
       "model_id": "b3ce3c06cac84d52ad552ed7a132de06",
       "version_major": 2,
       "version_minor": 0
      },
      "text/plain": [
       "  0%|          | 0/27 [00:00<?, ?it/s]"
      ]
     },
     "metadata": {},
     "output_type": "display_data"
    },
    {
     "name": "stdout",
     "output_type": "stream",
     "text": [
      "/dx02/kschwarz/climate_proc/ACCESS-CM2/prtrends_Amon_ACCESS-CM2_hist-ssp245_allruns_18500101-20231231_HoAfrica.nc already exists, skipped!\n",
      "/dx02/kschwarz/climate_proc/ACCESS-ESM1-5/prtrends_Amon_ACCESS-ESM1-5_hist-ssp245_allruns_18500101-20231231_HoAfrica.nc already exists, skipped!\n",
      "/dx02/kschwarz/climate_proc/CAS-ESM2-0/prtrends_Amon_CAS-ESM2-0_hist-ssp245_allruns_18500101-20231231_HoAfrica.nc already exists, skipped!\n",
      "/dx02/kschwarz/climate_proc/CESM2/prtrends_Amon_CESM2_hist-ssp245_allruns_18500101-20231231_HoAfrica.nc already exists, skipped!\n",
      "/dx02/kschwarz/climate_proc/CESM2-WACCM/prtrends_Amon_CESM2-WACCM_hist-ssp245_allruns_18500101-20231231_HoAfrica.nc already exists, skipped!\n",
      "/dx02/kschwarz/climate_proc/CNRM-CM6-1/prtrends_Amon_CNRM-CM6-1_hist-ssp245_allruns_18500101-20231231_HoAfrica.nc already exists, skipped!\n",
      "/dx02/kschwarz/climate_proc/CNRM-ESM2-1/prtrends_Amon_CNRM-ESM2-1_hist-ssp245_allruns_18500101-20231231_HoAfrica.nc already exists, skipped!\n",
      "/dx02/kschwarz/climate_proc/CanESM5/prtrends_Amon_CanESM5_hist-ssp245_allruns_18500101-20231231_HoAfrica.nc already exists, skipped!\n",
      "/dx02/kschwarz/climate_proc/CanESM5-CanOE/prtrends_Amon_CanESM5-CanOE_hist-ssp245_allruns_18500101-20231231_HoAfrica.nc already exists, skipped!\n",
      "/dx02/kschwarz/climate_proc/EC-Earth3/prtrends_Amon_EC-Earth3_hist-ssp245_allruns_18500101-20231231_HoAfrica.nc already exists, skipped!\n",
      "/dx02/kschwarz/climate_proc/EC-Earth3-Veg/prtrends_Amon_EC-Earth3-Veg_hist-ssp245_allruns_18500101-20231231_HoAfrica.nc already exists, skipped!\n",
      "/dx02/kschwarz/climate_proc/EC-Earth3-Veg-LR/prtrends_Amon_EC-Earth3-Veg-LR_hist-ssp245_allruns_18500101-20231231_HoAfrica.nc already exists, skipped!\n",
      "/dx02/kschwarz/climate_proc/FGOALS-g3/prtrends_Amon_FGOALS-g3_hist-ssp245_allruns_18500101-20231231_HoAfrica.nc already exists, skipped!\n",
      "/dx02/kschwarz/climate_proc/GFDL-ESM4/prtrends_Amon_GFDL-ESM4_hist-ssp245_allruns_18500101-20231231_HoAfrica.nc already exists, skipped!\n",
      "/dx02/kschwarz/climate_proc/GISS-E2-1-G/prtrends_Amon_GISS-E2-1-G_hist-ssp245_allruns_18500101-20231231_HoAfrica.nc already exists, skipped!\n",
      "/dx02/kschwarz/climate_proc/HadGEM3-GC31-LL/prtrends_Amon_HadGEM3-GC31-LL_hist-ssp245_allruns_18500101-20231231_HoAfrica.nc already exists, skipped!\n",
      "/dx02/kschwarz/climate_proc/IPSL-CM6A-LR/prtrends_Amon_IPSL-CM6A-LR_hist-ssp245_allruns_18500101-20231231_HoAfrica.nc already exists, skipped!\n",
      "/dx02/kschwarz/climate_proc/KACE-1-0-G/prtrends_Amon_KACE-1-0-G_hist-ssp245_allruns_18500101-20231231_HoAfrica.nc already exists, skipped!\n",
      "/dx02/kschwarz/climate_proc/MIROC-ES2L/prtrends_Amon_MIROC-ES2L_hist-ssp245_allruns_18500101-20231231_HoAfrica.nc already exists, skipped!\n",
      "/dx02/kschwarz/climate_proc/MIROC6/prtrends_Amon_MIROC6_hist-ssp245_allruns_18500101-20231231_HoAfrica.nc already exists, skipped!\n",
      "/dx02/kschwarz/climate_proc/MPI-ESM1-2-HR/prtrends_Amon_MPI-ESM1-2-HR_hist-ssp245_allruns_18500101-20231231_HoAfrica.nc already exists, skipped!\n",
      "/dx02/kschwarz/climate_proc/MPI-ESM1-2-LR/prtrends_Amon_MPI-ESM1-2-LR_hist-ssp245_allruns_18500101-20231231_HoAfrica.nc already exists, skipped!\n",
      "/dx02/kschwarz/climate_proc/MRI-ESM2-0/prtrends_Amon_MRI-ESM2-0_hist-ssp245_allruns_18500101-20231231_HoAfrica.nc already exists, skipped!\n",
      "/dx02/kschwarz/climate_proc/NESM3/prtrends_Amon_NESM3_hist-ssp245_allruns_18500101-20231231_HoAfrica.nc already exists, skipped!\n",
      "/dx02/kschwarz/climate_proc/NorESM2-LM/prtrends_Amon_NorESM2-LM_hist-ssp245_allruns_18500101-20231231_HoAfrica.nc already exists, skipped!\n",
      "/dx02/kschwarz/climate_proc/NorESM2-MM/prtrends_Amon_NorESM2-MM_hist-ssp245_allruns_18500101-20231231_HoAfrica.nc already exists, skipped!\n",
      "/dx02/kschwarz/climate_proc/UKESM1-0-LL/prtrends_Amon_UKESM1-0-LL_hist-ssp245_allruns_18500101-20231231_HoAfrica.nc already exists, skipped!\n"
     ]
    },
    {
     "data": {
      "application/vnd.jupyter.widget-view+json": {
       "model_id": "f2b7c3ab6c964c4d9f24739cae44e63a",
       "version_major": 2,
       "version_minor": 0
      },
      "text/plain": [
       "  0%|          | 0/19 [00:00<?, ?it/s]"
      ]
     },
     "metadata": {},
     "output_type": "display_data"
    },
    {
     "name": "stdout",
     "output_type": "stream",
     "text": [
      "/dx02/kschwarz/climate_proc/AWI-CM-1-1-MR/prtrends_Amon_AWI-CM-1-1-MR_hist-none_allruns_18500101-20141231_HoAfrica.nc already exists, skipped!\n",
      "/dx02/kschwarz/climate_proc/BCC-CSM2-MR/prtrends_Amon_BCC-CSM2-MR_hist-none_allruns_18500101-20141231_HoAfrica.nc already exists, skipped!\n",
      "/dx02/kschwarz/climate_proc/BCC-ESM1/prtrends_Amon_BCC-ESM1_hist-none_allruns_18500101-20141231_HoAfrica.nc already exists, skipped!\n",
      "/dx02/kschwarz/climate_proc/CAMS-CSM1-0/prtrends_Amon_CAMS-CSM1-0_hist-none_allruns_18500101-20141231_HoAfrica.nc already exists, skipped!\n",
      "/dx02/kschwarz/climate_proc/CESM2-FV2/prtrends_Amon_CESM2-FV2_hist-none_allruns_18500101-20141231_HoAfrica.nc already exists, skipped!\n",
      "/dx02/kschwarz/climate_proc/CESM2-WACCM-FV2/prtrends_Amon_CESM2-WACCM-FV2_hist-none_allruns_18500101-20141231_HoAfrica.nc already exists, skipped!\n",
      "/dx02/kschwarz/climate_proc/CMCC-CM2-SR5/prtrends_Amon_CMCC-CM2-SR5_hist-none_allruns_18500101-20141231_HoAfrica.nc already exists, skipped!\n",
      "/dx02/kschwarz/climate_proc/E3SM-1-0/prtrends_Amon_E3SM-1-0_hist-none_allruns_18500101-20141231_HoAfrica.nc already exists, skipped!\n",
      "/dx02/kschwarz/climate_proc/EC-Earth3-AerChem/prtrends_Amon_EC-Earth3-AerChem_hist-none_allruns_18500101-20141231_HoAfrica.nc already exists, skipped!\n",
      "/dx02/kschwarz/climate_proc/FGOALS-f3-L/prtrends_Amon_FGOALS-f3-L_hist-none_allruns_18500101-20141231_HoAfrica.nc already exists, skipped!\n",
      "/dx02/kschwarz/climate_proc/FIO-ESM-2-0/prtrends_Amon_FIO-ESM-2-0_hist-none_allruns_18500101-20141231_HoAfrica.nc already exists, skipped!\n",
      "/dx02/kschwarz/climate_proc/GISS-E2-1-H/prtrends_Amon_GISS-E2-1-H_hist-none_allruns_18500101-20141231_HoAfrica.nc already exists, skipped!\n",
      "/dx02/kschwarz/climate_proc/GISS-E2-2-H/prtrends_Amon_GISS-E2-2-H_hist-none_allruns_18500101-20141231_HoAfrica.nc already exists, skipped!\n",
      "/dx02/kschwarz/climate_proc/HadGEM3-GC31-MM/prtrends_Amon_HadGEM3-GC31-MM_hist-none_allruns_18500101-20141231_HoAfrica.nc already exists, skipped!\n",
      "regridding issue with exp hist-none, model ICON-ESM-LR (possibly a non-rectangular grid?)\n",
      "/dx02/kschwarz/climate_proc/INM-CM5-0/prtrends_Amon_INM-CM5-0_hist-none_allruns_18500101-20141231_HoAfrica.nc already exists, skipped!\n",
      "/dx02/kschwarz/climate_proc/MPI-ESM-1-2-HAM/prtrends_Amon_MPI-ESM-1-2-HAM_hist-none_allruns_18500101-20141231_HoAfrica.nc already exists, skipped!\n",
      "/dx02/kschwarz/climate_proc/NorCPM1/prtrends_Amon_NorCPM1_hist-none_allruns_18500101-20141231_HoAfrica.nc already exists, skipped!\n",
      "/dx02/kschwarz/climate_proc/TaiESM1/prtrends_Amon_TaiESM1_hist-none_allruns_18500101-20141231_HoAfrica.nc already exists, skipped!\n"
     ]
    }
   ],
   "source": [
    "# Calculate trends\n",
    "calc_trends(dss)"
   ]
  },
  {
   "cell_type": "code",
   "execution_count": null,
   "id": "604240d8-7571-4e75-bc63-63484a9167ff",
   "metadata": {},
   "outputs": [],
   "source": []
  },
  {
   "cell_type": "code",
   "execution_count": 81,
   "id": "f86145d7-3b4c-4784-9cd6-d20de1202dc2",
   "metadata": {},
   "outputs": [],
   "source": [
    "for exp in ['hist-none','hist-ssp245','hist-ssp585']:\n",
    "    for mod in dss[exp]:\n",
    "        dss[exp][mod] = dss[exp][mod].drop_duplicates('time').sel(time=slice('1958-01-01','2024-12-30'))"
   ]
  },
  {
   "cell_type": "code",
   "execution_count": 86,
   "id": "4d8104ec-4905-4be2-abe1-8d6a79a04e86",
   "metadata": {
    "scrolled": true
   },
   "outputs": [
    {
     "data": {
      "application/vnd.jupyter.widget-view+json": {
       "model_id": "1bf33c2adcba4c87b6457bc43ef3de06",
       "version_major": 2,
       "version_minor": 0
      },
      "text/plain": [
       "  0%|          | 0/3 [00:00<?, ?it/s]"
      ]
     },
     "metadata": {},
     "output_type": "display_data"
    },
    {
     "data": {
      "application/vnd.jupyter.widget-view+json": {
       "model_id": "6c5153373b554839bf91aa208be003bc",
       "version_major": 2,
       "version_minor": 0
      },
      "text/plain": [
       "  0%|          | 0/27 [00:00<?, ?it/s]"
      ]
     },
     "metadata": {},
     "output_type": "display_data"
    },
    {
     "name": "stderr",
     "output_type": "stream",
     "text": [
      "/home/kschwarz/miniforge3/envs/climate/lib/python3.12/site-packages/numpy/lib/nanfunctions.py:1563: RuntimeWarning: All-NaN slice encountered\n",
      "  return function_base._ureduce(a,\n"
     ]
    },
    {
     "name": "stdout",
     "output_type": "stream",
     "text": [
      "/dx02/kschwarz/climate_proc/ACCESS-CM2/prtrends_Amon_ACCESS-CM2_hist-ssp245_allruns_19580101-20241231_HoAfrica-bypixel.nc saved!\n"
     ]
    },
    {
     "name": "stderr",
     "output_type": "stream",
     "text": [
      "/home/kschwarz/miniforge3/envs/climate/lib/python3.12/site-packages/numpy/lib/nanfunctions.py:1563: RuntimeWarning: All-NaN slice encountered\n",
      "  return function_base._ureduce(a,\n"
     ]
    },
    {
     "name": "stdout",
     "output_type": "stream",
     "text": [
      "/dx02/kschwarz/climate_proc/ACCESS-ESM1-5/prtrends_Amon_ACCESS-ESM1-5_hist-ssp245_allruns_19580101-20241231_HoAfrica-bypixel.nc saved!\n"
     ]
    },
    {
     "name": "stderr",
     "output_type": "stream",
     "text": [
      "/home/kschwarz/miniforge3/envs/climate/lib/python3.12/site-packages/numpy/lib/nanfunctions.py:1563: RuntimeWarning: All-NaN slice encountered\n",
      "  return function_base._ureduce(a,\n"
     ]
    },
    {
     "name": "stdout",
     "output_type": "stream",
     "text": [
      "/dx02/kschwarz/climate_proc/CAS-ESM2-0/prtrends_Amon_CAS-ESM2-0_hist-ssp245_allruns_19580101-20241231_HoAfrica-bypixel.nc saved!\n"
     ]
    },
    {
     "name": "stderr",
     "output_type": "stream",
     "text": [
      "/home/kschwarz/miniforge3/envs/climate/lib/python3.12/site-packages/numpy/lib/nanfunctions.py:1563: RuntimeWarning: All-NaN slice encountered\n",
      "  return function_base._ureduce(a,\n"
     ]
    },
    {
     "name": "stdout",
     "output_type": "stream",
     "text": [
      "/dx02/kschwarz/climate_proc/CESM2/prtrends_Amon_CESM2_hist-ssp245_allruns_19580101-20241231_HoAfrica-bypixel.nc saved!\n"
     ]
    },
    {
     "name": "stderr",
     "output_type": "stream",
     "text": [
      "/home/kschwarz/miniforge3/envs/climate/lib/python3.12/site-packages/numpy/lib/nanfunctions.py:1563: RuntimeWarning: All-NaN slice encountered\n",
      "  return function_base._ureduce(a,\n"
     ]
    },
    {
     "name": "stdout",
     "output_type": "stream",
     "text": [
      "/dx02/kschwarz/climate_proc/CESM2-WACCM/prtrends_Amon_CESM2-WACCM_hist-ssp245_allruns_19580101-20241231_HoAfrica-bypixel.nc saved!\n"
     ]
    },
    {
     "name": "stderr",
     "output_type": "stream",
     "text": [
      "/home/kschwarz/miniforge3/envs/climate/lib/python3.12/site-packages/numpy/lib/nanfunctions.py:1563: RuntimeWarning: All-NaN slice encountered\n",
      "  return function_base._ureduce(a,\n"
     ]
    },
    {
     "name": "stdout",
     "output_type": "stream",
     "text": [
      "/dx02/kschwarz/climate_proc/CNRM-CM6-1/prtrends_Amon_CNRM-CM6-1_hist-ssp245_allruns_19580101-20241231_HoAfrica-bypixel.nc saved!\n"
     ]
    },
    {
     "name": "stderr",
     "output_type": "stream",
     "text": [
      "/home/kschwarz/miniforge3/envs/climate/lib/python3.12/site-packages/numpy/lib/nanfunctions.py:1563: RuntimeWarning: All-NaN slice encountered\n",
      "  return function_base._ureduce(a,\n"
     ]
    },
    {
     "name": "stdout",
     "output_type": "stream",
     "text": [
      "/dx02/kschwarz/climate_proc/CNRM-ESM2-1/prtrends_Amon_CNRM-ESM2-1_hist-ssp245_allruns_19580101-20241231_HoAfrica-bypixel.nc saved!\n"
     ]
    },
    {
     "name": "stderr",
     "output_type": "stream",
     "text": [
      "/home/kschwarz/miniforge3/envs/climate/lib/python3.12/site-packages/numpy/lib/nanfunctions.py:1563: RuntimeWarning: All-NaN slice encountered\n",
      "  return function_base._ureduce(a,\n"
     ]
    },
    {
     "name": "stdout",
     "output_type": "stream",
     "text": [
      "/dx02/kschwarz/climate_proc/CanESM5/prtrends_Amon_CanESM5_hist-ssp245_allruns_19580101-20241231_HoAfrica-bypixel.nc saved!\n"
     ]
    },
    {
     "name": "stderr",
     "output_type": "stream",
     "text": [
      "/home/kschwarz/miniforge3/envs/climate/lib/python3.12/site-packages/numpy/lib/nanfunctions.py:1563: RuntimeWarning: All-NaN slice encountered\n",
      "  return function_base._ureduce(a,\n"
     ]
    },
    {
     "name": "stdout",
     "output_type": "stream",
     "text": [
      "/dx02/kschwarz/climate_proc/CanESM5-CanOE/prtrends_Amon_CanESM5-CanOE_hist-ssp245_allruns_19580101-20241231_HoAfrica-bypixel.nc saved!\n"
     ]
    },
    {
     "name": "stderr",
     "output_type": "stream",
     "text": [
      "/home/kschwarz/miniforge3/envs/climate/lib/python3.12/site-packages/numpy/lib/nanfunctions.py:1563: RuntimeWarning: All-NaN slice encountered\n",
      "  return function_base._ureduce(a,\n"
     ]
    },
    {
     "name": "stdout",
     "output_type": "stream",
     "text": [
      "/dx02/kschwarz/climate_proc/EC-Earth3/prtrends_Amon_EC-Earth3_hist-ssp245_allruns_19580101-20241231_HoAfrica-bypixel.nc saved!\n"
     ]
    },
    {
     "name": "stderr",
     "output_type": "stream",
     "text": [
      "/home/kschwarz/miniforge3/envs/climate/lib/python3.12/site-packages/numpy/lib/nanfunctions.py:1563: RuntimeWarning: All-NaN slice encountered\n",
      "  return function_base._ureduce(a,\n"
     ]
    },
    {
     "name": "stdout",
     "output_type": "stream",
     "text": [
      "/dx02/kschwarz/climate_proc/EC-Earth3-Veg/prtrends_Amon_EC-Earth3-Veg_hist-ssp245_allruns_19580101-20241231_HoAfrica-bypixel.nc saved!\n"
     ]
    },
    {
     "name": "stderr",
     "output_type": "stream",
     "text": [
      "/home/kschwarz/miniforge3/envs/climate/lib/python3.12/site-packages/numpy/lib/nanfunctions.py:1563: RuntimeWarning: All-NaN slice encountered\n",
      "  return function_base._ureduce(a,\n"
     ]
    },
    {
     "name": "stdout",
     "output_type": "stream",
     "text": [
      "/dx02/kschwarz/climate_proc/EC-Earth3-Veg-LR/prtrends_Amon_EC-Earth3-Veg-LR_hist-ssp245_allruns_19580101-20241231_HoAfrica-bypixel.nc saved!\n",
      "/dx02/kschwarz/climate_proc/FGOALS-g3/prtrends_Amon_FGOALS-g3_hist-ssp245_allruns_19580101-20241231_HoAfrica-bypixel.nc saved!\n"
     ]
    },
    {
     "name": "stderr",
     "output_type": "stream",
     "text": [
      "/home/kschwarz/miniforge3/envs/climate/lib/python3.12/site-packages/numpy/lib/nanfunctions.py:1563: RuntimeWarning: All-NaN slice encountered\n",
      "  return function_base._ureduce(a,\n"
     ]
    },
    {
     "name": "stdout",
     "output_type": "stream",
     "text": [
      "/dx02/kschwarz/climate_proc/GFDL-ESM4/prtrends_Amon_GFDL-ESM4_hist-ssp245_allruns_19580101-20241231_HoAfrica-bypixel.nc saved!\n"
     ]
    },
    {
     "name": "stderr",
     "output_type": "stream",
     "text": [
      "/home/kschwarz/miniforge3/envs/climate/lib/python3.12/site-packages/numpy/lib/nanfunctions.py:1563: RuntimeWarning: All-NaN slice encountered\n",
      "  return function_base._ureduce(a,\n"
     ]
    },
    {
     "name": "stdout",
     "output_type": "stream",
     "text": [
      "/dx02/kschwarz/climate_proc/GISS-E2-1-G/prtrends_Amon_GISS-E2-1-G_hist-ssp245_allruns_19580101-20241231_HoAfrica-bypixel.nc saved!\n"
     ]
    },
    {
     "name": "stderr",
     "output_type": "stream",
     "text": [
      "/home/kschwarz/miniforge3/envs/climate/lib/python3.12/site-packages/numpy/lib/nanfunctions.py:1563: RuntimeWarning: All-NaN slice encountered\n",
      "  return function_base._ureduce(a,\n"
     ]
    },
    {
     "name": "stdout",
     "output_type": "stream",
     "text": [
      "/dx02/kschwarz/climate_proc/HadGEM3-GC31-LL/prtrends_Amon_HadGEM3-GC31-LL_hist-ssp245_allruns_19580101-20241231_HoAfrica-bypixel.nc saved!\n"
     ]
    },
    {
     "name": "stderr",
     "output_type": "stream",
     "text": [
      "/home/kschwarz/miniforge3/envs/climate/lib/python3.12/site-packages/numpy/lib/nanfunctions.py:1563: RuntimeWarning: All-NaN slice encountered\n",
      "  return function_base._ureduce(a,\n"
     ]
    },
    {
     "name": "stdout",
     "output_type": "stream",
     "text": [
      "/dx02/kschwarz/climate_proc/IPSL-CM6A-LR/prtrends_Amon_IPSL-CM6A-LR_hist-ssp245_allruns_19580101-20241231_HoAfrica-bypixel.nc saved!\n"
     ]
    },
    {
     "name": "stderr",
     "output_type": "stream",
     "text": [
      "/home/kschwarz/miniforge3/envs/climate/lib/python3.12/site-packages/numpy/lib/nanfunctions.py:1563: RuntimeWarning: All-NaN slice encountered\n",
      "  return function_base._ureduce(a,\n"
     ]
    },
    {
     "name": "stdout",
     "output_type": "stream",
     "text": [
      "/dx02/kschwarz/climate_proc/KACE-1-0-G/prtrends_Amon_KACE-1-0-G_hist-ssp245_allruns_19580101-20241231_HoAfrica-bypixel.nc saved!\n"
     ]
    },
    {
     "name": "stderr",
     "output_type": "stream",
     "text": [
      "/home/kschwarz/miniforge3/envs/climate/lib/python3.12/site-packages/numpy/lib/nanfunctions.py:1563: RuntimeWarning: All-NaN slice encountered\n",
      "  return function_base._ureduce(a,\n"
     ]
    },
    {
     "name": "stdout",
     "output_type": "stream",
     "text": [
      "/dx02/kschwarz/climate_proc/MIROC-ES2L/prtrends_Amon_MIROC-ES2L_hist-ssp245_allruns_19580101-20241231_HoAfrica-bypixel.nc saved!\n"
     ]
    },
    {
     "name": "stderr",
     "output_type": "stream",
     "text": [
      "/home/kschwarz/miniforge3/envs/climate/lib/python3.12/site-packages/numpy/lib/nanfunctions.py:1563: RuntimeWarning: All-NaN slice encountered\n",
      "  return function_base._ureduce(a,\n"
     ]
    },
    {
     "name": "stdout",
     "output_type": "stream",
     "text": [
      "/dx02/kschwarz/climate_proc/MIROC6/prtrends_Amon_MIROC6_hist-ssp245_allruns_19580101-20241231_HoAfrica-bypixel.nc saved!\n"
     ]
    },
    {
     "name": "stderr",
     "output_type": "stream",
     "text": [
      "/home/kschwarz/miniforge3/envs/climate/lib/python3.12/site-packages/numpy/lib/nanfunctions.py:1563: RuntimeWarning: All-NaN slice encountered\n",
      "  return function_base._ureduce(a,\n"
     ]
    },
    {
     "name": "stdout",
     "output_type": "stream",
     "text": [
      "/dx02/kschwarz/climate_proc/MPI-ESM1-2-HR/prtrends_Amon_MPI-ESM1-2-HR_hist-ssp245_allruns_19580101-20241231_HoAfrica-bypixel.nc saved!\n"
     ]
    },
    {
     "name": "stderr",
     "output_type": "stream",
     "text": [
      "/home/kschwarz/miniforge3/envs/climate/lib/python3.12/site-packages/numpy/lib/nanfunctions.py:1563: RuntimeWarning: All-NaN slice encountered\n",
      "  return function_base._ureduce(a,\n"
     ]
    },
    {
     "name": "stdout",
     "output_type": "stream",
     "text": [
      "/dx02/kschwarz/climate_proc/MPI-ESM1-2-LR/prtrends_Amon_MPI-ESM1-2-LR_hist-ssp245_allruns_19580101-20241231_HoAfrica-bypixel.nc saved!\n"
     ]
    },
    {
     "name": "stderr",
     "output_type": "stream",
     "text": [
      "/home/kschwarz/miniforge3/envs/climate/lib/python3.12/site-packages/numpy/lib/nanfunctions.py:1563: RuntimeWarning: All-NaN slice encountered\n",
      "  return function_base._ureduce(a,\n"
     ]
    },
    {
     "name": "stdout",
     "output_type": "stream",
     "text": [
      "/dx02/kschwarz/climate_proc/MRI-ESM2-0/prtrends_Amon_MRI-ESM2-0_hist-ssp245_allruns_19580101-20241231_HoAfrica-bypixel.nc saved!\n"
     ]
    },
    {
     "name": "stderr",
     "output_type": "stream",
     "text": [
      "/home/kschwarz/miniforge3/envs/climate/lib/python3.12/site-packages/numpy/lib/nanfunctions.py:1563: RuntimeWarning: All-NaN slice encountered\n",
      "  return function_base._ureduce(a,\n"
     ]
    },
    {
     "name": "stdout",
     "output_type": "stream",
     "text": [
      "/dx02/kschwarz/climate_proc/NESM3/prtrends_Amon_NESM3_hist-ssp245_allruns_19580101-20241231_HoAfrica-bypixel.nc saved!\n"
     ]
    },
    {
     "name": "stderr",
     "output_type": "stream",
     "text": [
      "/home/kschwarz/miniforge3/envs/climate/lib/python3.12/site-packages/numpy/lib/nanfunctions.py:1563: RuntimeWarning: All-NaN slice encountered\n",
      "  return function_base._ureduce(a,\n"
     ]
    },
    {
     "name": "stdout",
     "output_type": "stream",
     "text": [
      "/dx02/kschwarz/climate_proc/NorESM2-LM/prtrends_Amon_NorESM2-LM_hist-ssp245_allruns_19580101-20241231_HoAfrica-bypixel.nc saved!\n"
     ]
    },
    {
     "name": "stderr",
     "output_type": "stream",
     "text": [
      "/home/kschwarz/miniforge3/envs/climate/lib/python3.12/site-packages/numpy/lib/nanfunctions.py:1563: RuntimeWarning: All-NaN slice encountered\n",
      "  return function_base._ureduce(a,\n"
     ]
    },
    {
     "name": "stdout",
     "output_type": "stream",
     "text": [
      "/dx02/kschwarz/climate_proc/NorESM2-MM/prtrends_Amon_NorESM2-MM_hist-ssp245_allruns_19580101-20241231_HoAfrica-bypixel.nc saved!\n"
     ]
    },
    {
     "name": "stderr",
     "output_type": "stream",
     "text": [
      "/home/kschwarz/miniforge3/envs/climate/lib/python3.12/site-packages/numpy/lib/nanfunctions.py:1563: RuntimeWarning: All-NaN slice encountered\n",
      "  return function_base._ureduce(a,\n"
     ]
    },
    {
     "name": "stdout",
     "output_type": "stream",
     "text": [
      "/dx02/kschwarz/climate_proc/UKESM1-0-LL/prtrends_Amon_UKESM1-0-LL_hist-ssp245_allruns_19580101-20241231_HoAfrica-bypixel.nc saved!\n"
     ]
    },
    {
     "data": {
      "application/vnd.jupyter.widget-view+json": {
       "model_id": "898b203ae8974de88eb2223113fec969",
       "version_major": 2,
       "version_minor": 0
      },
      "text/plain": [
       "  0%|          | 0/20 [00:00<?, ?it/s]"
      ]
     },
     "metadata": {},
     "output_type": "display_data"
    },
    {
     "name": "stderr",
     "output_type": "stream",
     "text": [
      "/home/kschwarz/miniforge3/envs/climate/lib/python3.12/site-packages/numpy/lib/nanfunctions.py:1563: RuntimeWarning: All-NaN slice encountered\n",
      "  return function_base._ureduce(a,\n"
     ]
    },
    {
     "name": "stdout",
     "output_type": "stream",
     "text": [
      "/dx02/kschwarz/climate_proc/CAS-ESM2-0/prtrends_Amon_CAS-ESM2-0_hist-ssp585_allruns_19580101-20241231_HoAfrica-bypixel.nc saved!\n"
     ]
    },
    {
     "name": "stderr",
     "output_type": "stream",
     "text": [
      "/home/kschwarz/miniforge3/envs/climate/lib/python3.12/site-packages/numpy/lib/nanfunctions.py:1563: RuntimeWarning: All-NaN slice encountered\n",
      "  return function_base._ureduce(a,\n"
     ]
    },
    {
     "name": "stdout",
     "output_type": "stream",
     "text": [
      "/dx02/kschwarz/climate_proc/CESM2/prtrends_Amon_CESM2_hist-ssp585_allruns_19580101-20241231_HoAfrica-bypixel.nc saved!\n"
     ]
    },
    {
     "name": "stderr",
     "output_type": "stream",
     "text": [
      "/home/kschwarz/miniforge3/envs/climate/lib/python3.12/site-packages/numpy/lib/nanfunctions.py:1563: RuntimeWarning: All-NaN slice encountered\n",
      "  return function_base._ureduce(a,\n"
     ]
    },
    {
     "name": "stdout",
     "output_type": "stream",
     "text": [
      "/dx02/kschwarz/climate_proc/CESM2-WACCM/prtrends_Amon_CESM2-WACCM_hist-ssp585_allruns_19580101-20241231_HoAfrica-bypixel.nc saved!\n"
     ]
    },
    {
     "name": "stderr",
     "output_type": "stream",
     "text": [
      "/home/kschwarz/miniforge3/envs/climate/lib/python3.12/site-packages/numpy/lib/nanfunctions.py:1563: RuntimeWarning: All-NaN slice encountered\n",
      "  return function_base._ureduce(a,\n"
     ]
    },
    {
     "name": "stdout",
     "output_type": "stream",
     "text": [
      "/dx02/kschwarz/climate_proc/CNRM-CM6-1/prtrends_Amon_CNRM-CM6-1_hist-ssp585_allruns_19580101-20241231_HoAfrica-bypixel.nc saved!\n"
     ]
    },
    {
     "name": "stderr",
     "output_type": "stream",
     "text": [
      "/home/kschwarz/miniforge3/envs/climate/lib/python3.12/site-packages/numpy/lib/nanfunctions.py:1563: RuntimeWarning: All-NaN slice encountered\n",
      "  return function_base._ureduce(a,\n"
     ]
    },
    {
     "name": "stdout",
     "output_type": "stream",
     "text": [
      "/dx02/kschwarz/climate_proc/CNRM-ESM2-1/prtrends_Amon_CNRM-ESM2-1_hist-ssp585_allruns_19580101-20241231_HoAfrica-bypixel.nc saved!\n"
     ]
    },
    {
     "name": "stderr",
     "output_type": "stream",
     "text": [
      "/home/kschwarz/miniforge3/envs/climate/lib/python3.12/site-packages/numpy/lib/nanfunctions.py:1563: RuntimeWarning: All-NaN slice encountered\n",
      "  return function_base._ureduce(a,\n"
     ]
    },
    {
     "name": "stdout",
     "output_type": "stream",
     "text": [
      "/dx02/kschwarz/climate_proc/CanESM5/prtrends_Amon_CanESM5_hist-ssp585_allruns_19580101-20241231_HoAfrica-bypixel.nc saved!\n"
     ]
    },
    {
     "name": "stderr",
     "output_type": "stream",
     "text": [
      "/home/kschwarz/miniforge3/envs/climate/lib/python3.12/site-packages/numpy/lib/nanfunctions.py:1563: RuntimeWarning: All-NaN slice encountered\n",
      "  return function_base._ureduce(a,\n"
     ]
    },
    {
     "name": "stdout",
     "output_type": "stream",
     "text": [
      "/dx02/kschwarz/climate_proc/CanESM5-CanOE/prtrends_Amon_CanESM5-CanOE_hist-ssp585_allruns_19580101-20241231_HoAfrica-bypixel.nc saved!\n"
     ]
    },
    {
     "name": "stderr",
     "output_type": "stream",
     "text": [
      "/home/kschwarz/miniforge3/envs/climate/lib/python3.12/site-packages/numpy/lib/nanfunctions.py:1563: RuntimeWarning: All-NaN slice encountered\n",
      "  return function_base._ureduce(a,\n"
     ]
    },
    {
     "name": "stdout",
     "output_type": "stream",
     "text": [
      "/dx02/kschwarz/climate_proc/EC-Earth3/prtrends_Amon_EC-Earth3_hist-ssp585_allruns_19580101-20241231_HoAfrica-bypixel.nc saved!\n"
     ]
    },
    {
     "name": "stderr",
     "output_type": "stream",
     "text": [
      "/home/kschwarz/miniforge3/envs/climate/lib/python3.12/site-packages/numpy/lib/nanfunctions.py:1563: RuntimeWarning: All-NaN slice encountered\n",
      "  return function_base._ureduce(a,\n"
     ]
    },
    {
     "name": "stdout",
     "output_type": "stream",
     "text": [
      "/dx02/kschwarz/climate_proc/EC-Earth3-Veg/prtrends_Amon_EC-Earth3-Veg_hist-ssp585_allruns_19580101-20241231_HoAfrica-bypixel.nc saved!\n"
     ]
    },
    {
     "name": "stderr",
     "output_type": "stream",
     "text": [
      "/home/kschwarz/miniforge3/envs/climate/lib/python3.12/site-packages/numpy/lib/nanfunctions.py:1563: RuntimeWarning: All-NaN slice encountered\n",
      "  return function_base._ureduce(a,\n"
     ]
    },
    {
     "name": "stdout",
     "output_type": "stream",
     "text": [
      "/dx02/kschwarz/climate_proc/EC-Earth3-Veg-LR/prtrends_Amon_EC-Earth3-Veg-LR_hist-ssp585_allruns_19580101-20241231_HoAfrica-bypixel.nc saved!\n",
      "/dx02/kschwarz/climate_proc/FGOALS-g3/prtrends_Amon_FGOALS-g3_hist-ssp585_allruns_19580101-20241231_HoAfrica-bypixel.nc saved!\n"
     ]
    },
    {
     "name": "stderr",
     "output_type": "stream",
     "text": [
      "/home/kschwarz/miniforge3/envs/climate/lib/python3.12/site-packages/numpy/lib/nanfunctions.py:1563: RuntimeWarning: All-NaN slice encountered\n",
      "  return function_base._ureduce(a,\n"
     ]
    },
    {
     "name": "stdout",
     "output_type": "stream",
     "text": [
      "/dx02/kschwarz/climate_proc/HadGEM3-GC31-LL/prtrends_Amon_HadGEM3-GC31-LL_hist-ssp585_allruns_19580101-20241231_HoAfrica-bypixel.nc saved!\n"
     ]
    },
    {
     "name": "stderr",
     "output_type": "stream",
     "text": [
      "/home/kschwarz/miniforge3/envs/climate/lib/python3.12/site-packages/numpy/lib/nanfunctions.py:1563: RuntimeWarning: All-NaN slice encountered\n",
      "  return function_base._ureduce(a,\n"
     ]
    },
    {
     "name": "stdout",
     "output_type": "stream",
     "text": [
      "/dx02/kschwarz/climate_proc/KACE-1-0-G/prtrends_Amon_KACE-1-0-G_hist-ssp585_allruns_19580101-20241231_HoAfrica-bypixel.nc saved!\n"
     ]
    },
    {
     "name": "stderr",
     "output_type": "stream",
     "text": [
      "/home/kschwarz/miniforge3/envs/climate/lib/python3.12/site-packages/numpy/lib/nanfunctions.py:1563: RuntimeWarning: All-NaN slice encountered\n",
      "  return function_base._ureduce(a,\n"
     ]
    },
    {
     "name": "stdout",
     "output_type": "stream",
     "text": [
      "/dx02/kschwarz/climate_proc/MIROC-ES2L/prtrends_Amon_MIROC-ES2L_hist-ssp585_allruns_19580101-20241231_HoAfrica-bypixel.nc saved!\n"
     ]
    },
    {
     "name": "stderr",
     "output_type": "stream",
     "text": [
      "/home/kschwarz/miniforge3/envs/climate/lib/python3.12/site-packages/numpy/lib/nanfunctions.py:1563: RuntimeWarning: All-NaN slice encountered\n",
      "  return function_base._ureduce(a,\n"
     ]
    },
    {
     "name": "stdout",
     "output_type": "stream",
     "text": [
      "/dx02/kschwarz/climate_proc/MIROC6/prtrends_Amon_MIROC6_hist-ssp585_allruns_19580101-20241231_HoAfrica-bypixel.nc saved!\n"
     ]
    },
    {
     "name": "stderr",
     "output_type": "stream",
     "text": [
      "/home/kschwarz/miniforge3/envs/climate/lib/python3.12/site-packages/numpy/lib/nanfunctions.py:1563: RuntimeWarning: All-NaN slice encountered\n",
      "  return function_base._ureduce(a,\n"
     ]
    },
    {
     "name": "stdout",
     "output_type": "stream",
     "text": [
      "/dx02/kschwarz/climate_proc/MPI-ESM1-2-HR/prtrends_Amon_MPI-ESM1-2-HR_hist-ssp585_allruns_19580101-20241231_HoAfrica-bypixel.nc saved!\n"
     ]
    },
    {
     "name": "stderr",
     "output_type": "stream",
     "text": [
      "/home/kschwarz/miniforge3/envs/climate/lib/python3.12/site-packages/numpy/lib/nanfunctions.py:1563: RuntimeWarning: All-NaN slice encountered\n",
      "  return function_base._ureduce(a,\n"
     ]
    },
    {
     "name": "stdout",
     "output_type": "stream",
     "text": [
      "/dx02/kschwarz/climate_proc/MPI-ESM1-2-LR/prtrends_Amon_MPI-ESM1-2-LR_hist-ssp585_allruns_19580101-20241231_HoAfrica-bypixel.nc saved!\n"
     ]
    },
    {
     "name": "stderr",
     "output_type": "stream",
     "text": [
      "/home/kschwarz/miniforge3/envs/climate/lib/python3.12/site-packages/numpy/lib/nanfunctions.py:1563: RuntimeWarning: All-NaN slice encountered\n",
      "  return function_base._ureduce(a,\n"
     ]
    },
    {
     "name": "stdout",
     "output_type": "stream",
     "text": [
      "/dx02/kschwarz/climate_proc/MRI-ESM2-0/prtrends_Amon_MRI-ESM2-0_hist-ssp585_allruns_19580101-20241231_HoAfrica-bypixel.nc saved!\n"
     ]
    },
    {
     "name": "stderr",
     "output_type": "stream",
     "text": [
      "/home/kschwarz/miniforge3/envs/climate/lib/python3.12/site-packages/numpy/lib/nanfunctions.py:1563: RuntimeWarning: All-NaN slice encountered\n",
      "  return function_base._ureduce(a,\n"
     ]
    },
    {
     "name": "stdout",
     "output_type": "stream",
     "text": [
      "/dx02/kschwarz/climate_proc/NESM3/prtrends_Amon_NESM3_hist-ssp585_allruns_19580101-20241231_HoAfrica-bypixel.nc saved!\n"
     ]
    },
    {
     "name": "stderr",
     "output_type": "stream",
     "text": [
      "/home/kschwarz/miniforge3/envs/climate/lib/python3.12/site-packages/numpy/lib/nanfunctions.py:1563: RuntimeWarning: All-NaN slice encountered\n",
      "  return function_base._ureduce(a,\n"
     ]
    },
    {
     "name": "stdout",
     "output_type": "stream",
     "text": [
      "/dx02/kschwarz/climate_proc/UKESM1-0-LL/prtrends_Amon_UKESM1-0-LL_hist-ssp585_allruns_19580101-20241231_HoAfrica-bypixel.nc saved!\n"
     ]
    },
    {
     "data": {
      "application/vnd.jupyter.widget-view+json": {
       "model_id": "9342c3ddec5144039e524672bf26903e",
       "version_major": 2,
       "version_minor": 0
      },
      "text/plain": [
       "  0%|          | 0/19 [00:00<?, ?it/s]"
      ]
     },
     "metadata": {},
     "output_type": "display_data"
    },
    {
     "name": "stderr",
     "output_type": "stream",
     "text": [
      "/home/kschwarz/miniforge3/envs/climate/lib/python3.12/site-packages/numpy/lib/nanfunctions.py:1563: RuntimeWarning: All-NaN slice encountered\n",
      "  return function_base._ureduce(a,\n"
     ]
    },
    {
     "name": "stdout",
     "output_type": "stream",
     "text": [
      "/dx02/kschwarz/climate_proc/AWI-CM-1-1-MR/prtrends_Amon_AWI-CM-1-1-MR_hist-none_allruns_19580101-20141231_HoAfrica-bypixel.nc saved!\n"
     ]
    },
    {
     "name": "stderr",
     "output_type": "stream",
     "text": [
      "/home/kschwarz/miniforge3/envs/climate/lib/python3.12/site-packages/numpy/lib/nanfunctions.py:1563: RuntimeWarning: All-NaN slice encountered\n",
      "  return function_base._ureduce(a,\n"
     ]
    },
    {
     "name": "stdout",
     "output_type": "stream",
     "text": [
      "/dx02/kschwarz/climate_proc/BCC-CSM2-MR/prtrends_Amon_BCC-CSM2-MR_hist-none_allruns_19580101-20141231_HoAfrica-bypixel.nc saved!\n"
     ]
    },
    {
     "name": "stderr",
     "output_type": "stream",
     "text": [
      "/home/kschwarz/miniforge3/envs/climate/lib/python3.12/site-packages/numpy/lib/nanfunctions.py:1563: RuntimeWarning: All-NaN slice encountered\n",
      "  return function_base._ureduce(a,\n"
     ]
    },
    {
     "name": "stdout",
     "output_type": "stream",
     "text": [
      "/dx02/kschwarz/climate_proc/BCC-ESM1/prtrends_Amon_BCC-ESM1_hist-none_allruns_19580101-20141231_HoAfrica-bypixel.nc removed to allow overwrite!\n",
      "/dx02/kschwarz/climate_proc/BCC-ESM1/prtrends_Amon_BCC-ESM1_hist-none_allruns_19580101-20141231_HoAfrica-bypixel.nc saved!\n"
     ]
    },
    {
     "name": "stderr",
     "output_type": "stream",
     "text": [
      "/home/kschwarz/miniforge3/envs/climate/lib/python3.12/site-packages/numpy/lib/nanfunctions.py:1563: RuntimeWarning: All-NaN slice encountered\n",
      "  return function_base._ureduce(a,\n"
     ]
    },
    {
     "name": "stdout",
     "output_type": "stream",
     "text": [
      "/dx02/kschwarz/climate_proc/CAMS-CSM1-0/prtrends_Amon_CAMS-CSM1-0_hist-none_allruns_19580101-20141231_HoAfrica-bypixel.nc saved!\n"
     ]
    },
    {
     "name": "stderr",
     "output_type": "stream",
     "text": [
      "/home/kschwarz/miniforge3/envs/climate/lib/python3.12/site-packages/numpy/lib/nanfunctions.py:1563: RuntimeWarning: All-NaN slice encountered\n",
      "  return function_base._ureduce(a,\n"
     ]
    },
    {
     "name": "stdout",
     "output_type": "stream",
     "text": [
      "/dx02/kschwarz/climate_proc/CESM2-FV2/prtrends_Amon_CESM2-FV2_hist-none_allruns_19580101-20141231_HoAfrica-bypixel.nc removed to allow overwrite!\n",
      "/dx02/kschwarz/climate_proc/CESM2-FV2/prtrends_Amon_CESM2-FV2_hist-none_allruns_19580101-20141231_HoAfrica-bypixel.nc saved!\n"
     ]
    },
    {
     "name": "stderr",
     "output_type": "stream",
     "text": [
      "/home/kschwarz/miniforge3/envs/climate/lib/python3.12/site-packages/numpy/lib/nanfunctions.py:1563: RuntimeWarning: All-NaN slice encountered\n",
      "  return function_base._ureduce(a,\n"
     ]
    },
    {
     "name": "stdout",
     "output_type": "stream",
     "text": [
      "/dx02/kschwarz/climate_proc/CESM2-WACCM-FV2/prtrends_Amon_CESM2-WACCM-FV2_hist-none_allruns_19580101-20141231_HoAfrica-bypixel.nc removed to allow overwrite!\n",
      "/dx02/kschwarz/climate_proc/CESM2-WACCM-FV2/prtrends_Amon_CESM2-WACCM-FV2_hist-none_allruns_19580101-20141231_HoAfrica-bypixel.nc saved!\n"
     ]
    },
    {
     "name": "stderr",
     "output_type": "stream",
     "text": [
      "/home/kschwarz/miniforge3/envs/climate/lib/python3.12/site-packages/numpy/lib/nanfunctions.py:1563: RuntimeWarning: All-NaN slice encountered\n",
      "  return function_base._ureduce(a,\n"
     ]
    },
    {
     "name": "stdout",
     "output_type": "stream",
     "text": [
      "/dx02/kschwarz/climate_proc/CMCC-CM2-SR5/prtrends_Amon_CMCC-CM2-SR5_hist-none_allruns_19580101-20141231_HoAfrica-bypixel.nc saved!\n"
     ]
    },
    {
     "name": "stderr",
     "output_type": "stream",
     "text": [
      "/home/kschwarz/miniforge3/envs/climate/lib/python3.12/site-packages/numpy/lib/nanfunctions.py:1563: RuntimeWarning: All-NaN slice encountered\n",
      "  return function_base._ureduce(a,\n"
     ]
    },
    {
     "name": "stdout",
     "output_type": "stream",
     "text": [
      "/dx02/kschwarz/climate_proc/E3SM-1-0/prtrends_Amon_E3SM-1-0_hist-none_allruns_19580101-20141231_HoAfrica-bypixel.nc removed to allow overwrite!\n",
      "/dx02/kschwarz/climate_proc/E3SM-1-0/prtrends_Amon_E3SM-1-0_hist-none_allruns_19580101-20141231_HoAfrica-bypixel.nc saved!\n"
     ]
    },
    {
     "name": "stderr",
     "output_type": "stream",
     "text": [
      "/home/kschwarz/miniforge3/envs/climate/lib/python3.12/site-packages/numpy/lib/nanfunctions.py:1563: RuntimeWarning: All-NaN slice encountered\n",
      "  return function_base._ureduce(a,\n"
     ]
    },
    {
     "name": "stdout",
     "output_type": "stream",
     "text": [
      "/dx02/kschwarz/climate_proc/EC-Earth3-AerChem/prtrends_Amon_EC-Earth3-AerChem_hist-none_allruns_19580101-20141231_HoAfrica-bypixel.nc removed to allow overwrite!\n",
      "/dx02/kschwarz/climate_proc/EC-Earth3-AerChem/prtrends_Amon_EC-Earth3-AerChem_hist-none_allruns_19580101-20141231_HoAfrica-bypixel.nc saved!\n"
     ]
    },
    {
     "name": "stderr",
     "output_type": "stream",
     "text": [
      "/home/kschwarz/miniforge3/envs/climate/lib/python3.12/site-packages/numpy/lib/nanfunctions.py:1563: RuntimeWarning: All-NaN slice encountered\n",
      "  return function_base._ureduce(a,\n"
     ]
    },
    {
     "name": "stdout",
     "output_type": "stream",
     "text": [
      "/dx02/kschwarz/climate_proc/FGOALS-f3-L/prtrends_Amon_FGOALS-f3-L_hist-none_allruns_19580101-20141231_HoAfrica-bypixel.nc saved!\n"
     ]
    },
    {
     "name": "stderr",
     "output_type": "stream",
     "text": [
      "/home/kschwarz/miniforge3/envs/climate/lib/python3.12/site-packages/numpy/lib/nanfunctions.py:1563: RuntimeWarning: All-NaN slice encountered\n",
      "  return function_base._ureduce(a,\n"
     ]
    },
    {
     "name": "stdout",
     "output_type": "stream",
     "text": [
      "/dx02/kschwarz/climate_proc/FIO-ESM-2-0/prtrends_Amon_FIO-ESM-2-0_hist-none_allruns_19580101-20141231_HoAfrica-bypixel.nc saved!\n"
     ]
    },
    {
     "name": "stderr",
     "output_type": "stream",
     "text": [
      "/home/kschwarz/miniforge3/envs/climate/lib/python3.12/site-packages/numpy/lib/nanfunctions.py:1563: RuntimeWarning: All-NaN slice encountered\n",
      "  return function_base._ureduce(a,\n"
     ]
    },
    {
     "name": "stdout",
     "output_type": "stream",
     "text": [
      "/dx02/kschwarz/climate_proc/GISS-E2-1-H/prtrends_Amon_GISS-E2-1-H_hist-none_allruns_19580101-20141231_HoAfrica-bypixel.nc saved!\n"
     ]
    },
    {
     "name": "stderr",
     "output_type": "stream",
     "text": [
      "/home/kschwarz/miniforge3/envs/climate/lib/python3.12/site-packages/numpy/lib/nanfunctions.py:1563: RuntimeWarning: All-NaN slice encountered\n",
      "  return function_base._ureduce(a,\n"
     ]
    },
    {
     "name": "stdout",
     "output_type": "stream",
     "text": [
      "/dx02/kschwarz/climate_proc/GISS-E2-2-H/prtrends_Amon_GISS-E2-2-H_hist-none_allruns_19580101-20141231_HoAfrica-bypixel.nc removed to allow overwrite!\n",
      "/dx02/kschwarz/climate_proc/GISS-E2-2-H/prtrends_Amon_GISS-E2-2-H_hist-none_allruns_19580101-20141231_HoAfrica-bypixel.nc saved!\n"
     ]
    },
    {
     "name": "stderr",
     "output_type": "stream",
     "text": [
      "/home/kschwarz/miniforge3/envs/climate/lib/python3.12/site-packages/numpy/lib/nanfunctions.py:1563: RuntimeWarning: All-NaN slice encountered\n",
      "  return function_base._ureduce(a,\n"
     ]
    },
    {
     "name": "stdout",
     "output_type": "stream",
     "text": [
      "/dx02/kschwarz/climate_proc/HadGEM3-GC31-MM/prtrends_Amon_HadGEM3-GC31-MM_hist-none_allruns_19580101-20141231_HoAfrica-bypixel.nc saved!\n",
      "regridding issue with exp hist-none, model ICON-ESM-LR (possibly a non-rectangular grid?)\n",
      "/dx02/kschwarz/climate_proc/INM-CM5-0/prtrends_Amon_INM-CM5-0_hist-none_allruns_19580101-20141231_HoAfrica-bypixel.nc saved!\n"
     ]
    },
    {
     "name": "stderr",
     "output_type": "stream",
     "text": [
      "/home/kschwarz/miniforge3/envs/climate/lib/python3.12/site-packages/numpy/lib/nanfunctions.py:1563: RuntimeWarning: All-NaN slice encountered\n",
      "  return function_base._ureduce(a,\n"
     ]
    },
    {
     "name": "stdout",
     "output_type": "stream",
     "text": [
      "/dx02/kschwarz/climate_proc/MPI-ESM-1-2-HAM/prtrends_Amon_MPI-ESM-1-2-HAM_hist-none_allruns_19580101-20141231_HoAfrica-bypixel.nc removed to allow overwrite!\n",
      "/dx02/kschwarz/climate_proc/MPI-ESM-1-2-HAM/prtrends_Amon_MPI-ESM-1-2-HAM_hist-none_allruns_19580101-20141231_HoAfrica-bypixel.nc saved!\n"
     ]
    },
    {
     "name": "stderr",
     "output_type": "stream",
     "text": [
      "/home/kschwarz/miniforge3/envs/climate/lib/python3.12/site-packages/numpy/lib/nanfunctions.py:1563: RuntimeWarning: All-NaN slice encountered\n",
      "  return function_base._ureduce(a,\n"
     ]
    },
    {
     "name": "stdout",
     "output_type": "stream",
     "text": [
      "/dx02/kschwarz/climate_proc/NorCPM1/prtrends_Amon_NorCPM1_hist-none_allruns_19580101-20141231_HoAfrica-bypixel.nc removed to allow overwrite!\n",
      "/dx02/kschwarz/climate_proc/NorCPM1/prtrends_Amon_NorCPM1_hist-none_allruns_19580101-20141231_HoAfrica-bypixel.nc saved!\n",
      "/dx02/kschwarz/climate_proc/TaiESM1/prtrends_Amon_TaiESM1_hist-none_allruns_19580101-20141231_HoAfrica-bypixel.nc saved!\n"
     ]
    },
    {
     "name": "stderr",
     "output_type": "stream",
     "text": [
      "/home/kschwarz/miniforge3/envs/climate/lib/python3.12/site-packages/numpy/lib/nanfunctions.py:1563: RuntimeWarning: All-NaN slice encountered\n",
      "  return function_base._ureduce(a,\n"
     ]
    }
   ],
   "source": [
    "# Calculate trends by pixel\n",
    "calc_trends({exp:dss[exp] for exp in ['hist-ssp245','hist-ssp585','hist-none']},\n",
    "            regs = None,\n",
    "            overwrite=True)"
   ]
  },
  {
   "cell_type": "code",
   "execution_count": 87,
   "id": "2c2dd965-54fe-4fda-900b-7441edee7f5e",
   "metadata": {},
   "outputs": [],
   "source": [
    "for exp in ['hist-ssp245','hist-ssp585','hist-none']:\n",
    "    del dss[exp]"
   ]
  },
  {
   "cell_type": "markdown",
   "id": "ba6db283-3824-4bf9-90e0-62a352194827",
   "metadata": {},
   "source": [
    "## NMME hindcasts"
   ]
  },
  {
   "cell_type": "code",
   "execution_count": 20,
   "id": "2f0fcc6c-fb33-47a3-86ad-17c536b32fa3",
   "metadata": {},
   "outputs": [],
   "source": [
    "dss['hindcastsf'] = load_raws({'varname':'pr','freq':'Amon','suffix':suffix,'exp':'hindcastsf','run':'NMME'},\n",
    "                              force_load = True)"
   ]
  },
  {
   "cell_type": "code",
   "execution_count": 21,
   "id": "a2825fe6-ae27-44a7-a833-336aa84eb981",
   "metadata": {},
   "outputs": [
    {
     "data": {
      "application/vnd.jupyter.widget-view+json": {
       "model_id": "7920f4a6bbb74e04b3f42d3cfc84643c",
       "version_major": 2,
       "version_minor": 0
      },
      "text/plain": [
       "  0%|          | 0/1 [00:00<?, ?it/s]"
      ]
     },
     "metadata": {},
     "output_type": "display_data"
    },
    {
     "data": {
      "application/vnd.jupyter.widget-view+json": {
       "model_id": "fb7d1ef6d7a741b2b906ee3de92e094d",
       "version_major": 2,
       "version_minor": 0
      },
      "text/plain": [
       "  0%|          | 0/10 [00:00<?, ?it/s]"
      ]
     },
     "metadata": {},
     "output_type": "display_data"
    },
    {
     "name": "stdout",
     "output_type": "stream",
     "text": [
      "/dx02/kschwarz/climate_proc/CMC1-CanCM3/prtrends_Amon_CMC1-CanCM3_hindcastsf_allruns_19810101-20200630_HoAfrica.nc already exists, skipped!\n",
      "/dx02/kschwarz/climate_proc/CMC2-CanCM4/prtrends_Amon_CMC2-CanCM4_hindcastsf_allruns_19810101-20200630_HoAfrica.nc already exists, skipped!\n",
      "/dx02/kschwarz/climate_proc/CanCM4i/prtrends_Amon_CanCM4i_hindcastsf_allruns_19810101-20221031_HoAfrica.nc already exists, skipped!\n",
      "/dx02/kschwarz/climate_proc/CanSIPS-IC3/prtrends_Amon_CanSIPS-IC3_hindcastsf_allruns_19800101-20240731_HoAfrica.nc already exists, skipped!\n",
      "/dx02/kschwarz/climate_proc/CanSIPSv2/prtrends_Amon_CanSIPSv2_hindcastsf_allruns_19810101-20221031_HoAfrica.nc already exists, skipped!\n",
      "/dx02/kschwarz/climate_proc/GEM-NEMO/prtrends_Amon_GEM-NEMO_hindcastsf_allruns_19810101-20221031_HoAfrica.nc already exists, skipped!\n",
      "/dx02/kschwarz/climate_proc/GFDL-SPEAR/prtrends_Amon_GFDL-SPEAR_hindcastsf_allruns_19910101-20240731_HoAfrica.nc already exists, skipped!\n",
      "/dx02/kschwarz/climate_proc/NASA-GEOSS2S/prtrends_Amon_NASA-GEOSS2S_hindcastsf_allruns_19810201-20240430_HoAfrica.nc already exists, skipped!\n",
      "/dx02/kschwarz/climate_proc/NCAR-CESM1/prtrends_Amon_NCAR-CESM1_hindcastsf_allruns_19800101-20111130_HoAfrica.nc already exists, skipped!\n",
      "/dx02/kschwarz/climate_proc/NCEP-CFSv2/prtrends_Amon_NCEP-CFSv2_hindcastsf_allruns_19820101-20240531_HoAfrica.nc already exists, skipped!\n"
     ]
    }
   ],
   "source": [
    "# Calculate trends\n",
    "calc_trends(dss)"
   ]
  },
  {
   "cell_type": "code",
   "execution_count": 22,
   "id": "294390c8-6dfa-4b06-8456-512f96a6e379",
   "metadata": {},
   "outputs": [],
   "source": [
    "del dss['hindcastsf']"
   ]
  },
  {
   "cell_type": "code",
   "execution_count": null,
   "id": "24bf61dd-312b-49a3-b4bc-3b9e09af3d80",
   "metadata": {},
   "outputs": [],
   "source": []
  }
 ],
 "metadata": {
  "kernelspec": {
   "display_name": "Python 3 (ipykernel)",
   "language": "python",
   "name": "python3"
  },
  "language_info": {
   "codemirror_mode": {
    "name": "ipython",
    "version": 3
   },
   "file_extension": ".py",
   "mimetype": "text/x-python",
   "name": "python",
   "nbconvert_exporter": "python",
   "pygments_lexer": "ipython3",
   "version": "3.12.2"
  }
 },
 "nbformat": 4,
 "nbformat_minor": 5
}
